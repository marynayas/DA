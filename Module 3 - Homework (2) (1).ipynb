{
 "cells": [
  {
   "cell_type": "markdown",
   "metadata": {},
   "source": [
    "### Exercise 1\n",
    "Ask a user for 5 names and place each one in to a list called <i>names</i>. Then, print <i>names</i>."
   ]
  },
  {
   "cell_type": "code",
   "execution_count": 28,
   "metadata": {},
   "outputs": [
    {
     "name": "stdout",
     "output_type": "stream",
     "text": [
      "Please, enter the first name: Maryna\n",
      "Please, enter the second name: Daniel\n",
      "Please, enter the third name: Sarah\n",
      "Please, enter the fourth name: Volodymyr\n",
      "Please, enter the fifth name: Ariadna\n",
      "['Maryna', 'Daniel', 'Sarah', 'Volodymyr', 'Ariadna']\n"
     ]
    }
   ],
   "source": [
    "n1 = (input(f\"Please, enter the first name: \"))\n",
    "n2 = (input(f\"Please, enter the second name: \"))\n",
    "n3 = (input(f\"Please, enter the third name: \"))\n",
    "n4 = (input(f\"Please, enter the fourth name: \"))\n",
    "n5 = (input(f\"Please, enter the fifth name: \"))\n",
    "names = [n1, n2, n3, n4, n5]\n",
    "print (names)"
   ]
  },
  {
   "cell_type": "code",
   "execution_count": 31,
   "metadata": {},
   "outputs": [
    {
     "name": "stdout",
     "output_type": "stream",
     "text": [
      "Please, enter the first name: Zamira\n",
      "Please, enter the second name: Kate\n",
      "Please, enter the third name: Sasha\n",
      "['Zamira', 'Kate', 'Sasha']\n"
     ]
    }
   ],
   "source": [
    "names1 = []\n",
    "names1.append(input(f\"Please, enter the first name: \"))\n",
    "names1.append(input(f\"Please, enter the second name: \"))\n",
    "names1.append(input(f\"Please, enter the third name: \"))\n",
    "\n",
    "print(names1)"
   ]
  },
  {
   "cell_type": "markdown",
   "metadata": {},
   "source": [
    "### Exercise 2\n",
    "Print out a randomly selected name in the names list."
   ]
  },
  {
   "cell_type": "code",
   "execution_count": 30,
   "metadata": {},
   "outputs": [
    {
     "name": "stdout",
     "output_type": "stream",
     "text": [
      "Daniel\n"
     ]
    }
   ],
   "source": [
    "import random\n",
    "print(random.choice(names))"
   ]
  },
  {
   "cell_type": "markdown",
   "metadata": {},
   "source": [
    "### Exercise 3\n",
    "\n",
    "Ask a user for a specific color and store that value into a variable. If the answer is gray, print \"You found Victor's favorite color!\". If the answer is anything besides gray, print \"[color name] is not Victor's favorite color.\""
   ]
  },
  {
   "cell_type": "code",
   "execution_count": 20,
   "metadata": {},
   "outputs": [
    {
     "name": "stdout",
     "output_type": "stream",
     "text": [
      "Enter your color: pink\n",
      "pink is not Victor's favorite color.\n"
     ]
    }
   ],
   "source": [
    "color = input(f\"Enter your color: \")\n",
    "x = color\n",
    "if x == \"gray\":\n",
    "    print(\"You found Victor's favorite color!\")\n",
    "else:\n",
    "    print(f\"{color} is not Victor's favorite color.\")"
   ]
  },
  {
   "cell_type": "code",
   "execution_count": 21,
   "metadata": {},
   "outputs": [
    {
     "name": "stdout",
     "output_type": "stream",
     "text": [
      "Enter your color: gray\n",
      "You found Victor's favorite color!\n"
     ]
    }
   ],
   "source": [
    "color = input(f\"Enter your color: \")\n",
    "x = color\n",
    "if x == \"gray\":\n",
    "    print(\"You found Victor's favorite color!\")\n",
    "else:\n",
    "    print(f\"{color} is not Victor's favorite color.\")"
   ]
  },
  {
   "cell_type": "markdown",
   "metadata": {},
   "source": [
    "### Exercise 4\n",
    "Ask for an exam score and store that number. If the number is greater than 100, then print out 'You cannot have an exam score higher than 100'. If the number doesn't exceeed 100 but is greater than or equal to 75, then print out 'You did great on your exam!'. Otherwise if they scored lower than 75, then print out 'You need to study harder'."
   ]
  },
  {
   "cell_type": "code",
   "execution_count": 19,
   "metadata": {},
   "outputs": [
    {
     "name": "stdout",
     "output_type": "stream",
     "text": [
      "Enter your exam score: 100\n",
      "You did great om your exam!\n"
     ]
    }
   ],
   "source": [
    "exam_score = int(input(f\"Enter your exam score: \"))\n",
    "if exam_score > 100:\n",
    "    print(\"You cannot have an exam score higher than 100\")\n",
    "elif exam_score >= 75:\n",
    "    print(\"You did great om your exam!\")\n",
    "elif exam_score < 75:\n",
    "    print(\"You need to study harder.\")\n"
   ]
  },
  {
   "cell_type": "markdown",
   "metadata": {},
   "source": [
    "### Exercise 5\n",
    "Write a function to convert a test score to a grade where  \n",
    " - 90 - 100: A\n",
    " - 80 - 89:  B\n",
    " - 70 - 79:  C\n",
    " - 60 - 69:  D\n",
    " - < 60   :  F\n",
    " \n",
    "If a score is not between 0 and 100 then print out an error message. In the program, ask the user for a score and then call your function. "
   ]
  },
  {
   "cell_type": "code",
   "execution_count": 11,
   "metadata": {},
   "outputs": [
    {
     "name": "stdout",
     "output_type": "stream",
     "text": [
      "Enter your score: 50\n",
      "Your grade is F.\n"
     ]
    }
   ],
   "source": [
    "def convert_test_to_grade (score):\n",
    "    if score > 100:\n",
    "        print(\"Error\")\n",
    "    elif score >= 90:\n",
    "        print(\"Your grade is A.\")\n",
    "    elif score >=80:\n",
    "        print(\"Your grade is B.\")\n",
    "    elif score >=70:\n",
    "        print(\"Your grade is C.\")\n",
    "    elif score >=60:\n",
    "        print(\"Your grade is D.\")\n",
    "    elif score <60:\n",
    "        print(\"Your grade is F.\")\n",
    "score = int(input(\"Enter your score: \"))\n",
    "convert_test_to_grade(score)"
   ]
  },
  {
   "cell_type": "code",
   "execution_count": 17,
   "metadata": {},
   "outputs": [
    {
     "name": "stdout",
     "output_type": "stream",
     "text": [
      "Enter your score: -1\n"
     ]
    },
    {
     "data": {
      "text/plain": [
       "'Error'"
      ]
     },
     "execution_count": 17,
     "metadata": {},
     "output_type": "execute_result"
    }
   ],
   "source": [
    "def convert_test_to_grade (score):\n",
    "    if score > 100 or score < 0:\n",
    "        return \"Error\"\n",
    "    elif score >= 90:\n",
    "        return \"A\"\n",
    "    elif score >=80:\n",
    "        return \"B\"\n",
    "    elif score >=70:\n",
    "        return \"C\"\n",
    "    elif score >=60:\n",
    "        return \"D\"\n",
    "    elif score <60:\n",
    "        return \"F\"\n",
    "score = int(input(\"Enter your score: \"))\n",
    "convert_test_to_grade(score)"
   ]
  },
  {
   "cell_type": "code",
   "execution_count": 18,
   "metadata": {},
   "outputs": [
    {
     "name": "stdout",
     "output_type": "stream",
     "text": [
      "Enter your score: 100\n"
     ]
    },
    {
     "data": {
      "text/plain": [
       "'A'"
      ]
     },
     "execution_count": 18,
     "metadata": {},
     "output_type": "execute_result"
    }
   ],
   "source": [
    "def convert_test_to_grade (score):\n",
    "    if score > 100 or score < 0:\n",
    "        return \"Error\"\n",
    "    elif score >= 90:\n",
    "        return \"A\"\n",
    "    elif score >=80:\n",
    "        return \"B\"\n",
    "    elif score >=70:\n",
    "        return \"C\"\n",
    "    elif score >=60:\n",
    "        return \"D\"\n",
    "    elif score <60:\n",
    "        return \"F\"\n",
    "score = int(input(\"Enter your score: \"))\n",
    "convert_test_to_grade(score)"
   ]
  }
 ],
 "metadata": {
  "kernelspec": {
   "display_name": "Python 3 (ipykernel)",
   "language": "python",
   "name": "python3"
  },
  "language_info": {
   "codemirror_mode": {
    "name": "ipython",
    "version": 3
   },
   "file_extension": ".py",
   "mimetype": "text/x-python",
   "name": "python",
   "nbconvert_exporter": "python",
   "pygments_lexer": "ipython3",
   "version": "3.9.13"
  }
 },
 "nbformat": 4,
 "nbformat_minor": 4
}
