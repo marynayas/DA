{
 "cells": [
  {
   "cell_type": "markdown",
   "id": "c209b646",
   "metadata": {},
   "source": [
    "### Homework #2"
   ]
  },
  {
   "cell_type": "markdown",
   "id": "869ebfd6",
   "metadata": {},
   "source": [
    "1. Round 4.5667 to the nearest hundreth (2 decimals) using a build-in function, round()."
   ]
  },
  {
   "cell_type": "code",
   "execution_count": 58,
   "id": "123658aa",
   "metadata": {},
   "outputs": [
    {
     "data": {
      "text/plain": [
       "4.57"
      ]
     },
     "execution_count": 58,
     "metadata": {},
     "output_type": "execute_result"
    }
   ],
   "source": [
    "round(4.5667,2)"
   ]
  },
  {
   "cell_type": "markdown",
   "id": "9d3f352c",
   "metadata": {},
   "source": [
    "2. Convert \"657\" to an integer data type"
   ]
  },
  {
   "cell_type": "code",
   "execution_count": 127,
   "id": "d5a67683",
   "metadata": {},
   "outputs": [
    {
     "name": "stdout",
     "output_type": "stream",
     "text": [
      "657\n"
     ]
    }
   ],
   "source": [
    "x = \"657\"\n",
    "i = int(x)\n",
    "print(i)"
   ]
  },
  {
   "cell_type": "markdown",
   "id": "a36f06d4",
   "metadata": {},
   "source": [
    "3. Write a program to get two numbers from a user. Then, create a 6-digit code that is a series of randomly generated numbers between the two numbers given by the user. Print the 6-digit code so all digits are separated by a dash. "
   ]
  },
  {
   "cell_type": "code",
   "execution_count": 23,
   "id": "021c92d4",
   "metadata": {},
   "outputs": [
    {
     "name": "stdout",
     "output_type": "stream",
     "text": [
      "Enter a number: 4\n",
      "Enter a number: 56\n",
      "48 - 13 - 22 - 16 - 7 - 46\n"
     ]
    }
   ],
   "source": [
    "import random\n",
    "n1 = int(input(\"Enter a number: \"))\n",
    "n2 = int(input(\"Enter a number: \"))\n",
    "print(rand.randint(n1, n2),\"-\",rand.randint(n1, n2),\"-\",rand.randint(n1, n2),\"-\",rand.randint(n1, n2),\"-\",rand.randint(n1, n2),\"-\",rand.randint(n1, n2))\n"
   ]
  },
  {
   "cell_type": "markdown",
   "id": "ee1441a1",
   "metadata": {},
   "source": [
    "4. Write a program to remove ALL the white spaces from the following text:\n",
    "\n",
    "        Hickory, dickory, dock,     \n",
    "        The mouse ran up the clock.   \n",
    "        The clock struck one,   \n",
    "        The mouse ran down,                      \n",
    "        Hickory, dickory, dock                  "
   ]
  },
  {
   "cell_type": "code",
   "execution_count": 134,
   "id": "8bf680f1",
   "metadata": {},
   "outputs": [
    {
     "name": "stdout",
     "output_type": "stream",
     "text": [
      "Hickory,dickory,dock,\n",
      "Themouseranuptheclock.\n",
      "Theclockstruckone,\n",
      "Themouserandown,\n",
      "Hickory,dickory,dockThemouseranuptheclock.Theclockstruckone,Themouserandown,Hickory,dickory,dock\n"
     ]
    }
   ],
   "source": [
    "x = \"\"\"Hickory, dickory, dock,     \n",
    " The mouse ran up the clock.   \n",
    " The clock struck one,   \n",
    " The mouse ran down,                      \n",
    " Hickory, dickory, dock                  \"\"\"\n",
    "print(x.replace(\" \", '') + x1.replace(\" \", '') + x2.replace(\" \", '') + x3.replace(\" \", '') + x4.replace(\" \", ''))\n"
   ]
  },
  {
   "cell_type": "code",
   "execution_count": 133,
   "id": "d9ae8d6d",
   "metadata": {},
   "outputs": [
    {
     "name": "stdout",
     "output_type": "stream",
     "text": [
      "Hickory,dickory,dock,\n",
      "Themouseranuptheclock.\n",
      "Theclockstruckone,\n",
      "Themouserandown,\n",
      "Hickory,dickory,dock\n"
     ]
    }
   ],
   "source": [
    "x = \"\"\"Hickory, dickory, dock,     \n",
    " The mouse ran up the clock.   \n",
    " The clock struck one,   \n",
    " The mouse ran down,                      \n",
    " Hickory, dickory, dock                  \"\"\"\n",
    "print(x.replace(\" \", ''))"
   ]
  },
  {
   "cell_type": "markdown",
   "id": "72d87b5b",
   "metadata": {},
   "source": [
    "5. Write a function to calculate the miles per gallon. Get a miles driven and gallons used from a user and call your function to calculate the miles per gallon."
   ]
  },
  {
   "cell_type": "code",
   "execution_count": 60,
   "id": "27be7372",
   "metadata": {},
   "outputs": [
    {
     "name": "stdout",
     "output_type": "stream",
     "text": [
      "Enter the number of miles: 500\n",
      "Enter the number of gallons: 30\n"
     ]
    },
    {
     "data": {
      "text/plain": [
       "16.666666666666668"
      ]
     },
     "execution_count": 60,
     "metadata": {},
     "output_type": "execute_result"
    }
   ],
   "source": [
    "def miles_per_gallons(mile , gallon):\n",
    "    return mile/gallon\n",
    "\n",
    "m = int(input(\"Enter the number of miles: \"))\n",
    "g = int(input(\"Enter the number of gallons: \"))\n",
    "\n",
    "miles_per_gallons(m,g)\n",
    "    "
   ]
  },
  {
   "cell_type": "markdown",
   "id": "1f3942b8",
   "metadata": {},
   "source": [
    "6. Enhance the <b>compute()</b> function created during Module 2. Enhance the function to compute a circle's area and circumference where:\n",
    "\n",
    " - circle's area = 3.14 X (radius X radius)   \n",
    " - circle's circumference = 3.14 X diameter"
   ]
  },
  {
   "cell_type": "code",
   "execution_count": 66,
   "id": "df43daca",
   "metadata": {},
   "outputs": [
    {
     "name": "stdout",
     "output_type": "stream",
     "text": [
      "Enter a radius:4\n",
      "Area is: 50.24\n",
      "Circumference is: 25.12\n"
     ]
    }
   ],
   "source": [
    "def compute(area, circumference):\n",
    "    \n",
    "    print(f\"Area is: {area}\")\n",
    "    print(f\"Circumference is: {circumference}\")\n",
    "radius = int(input(\"Enter a radius:\"))\n",
    "area = 3.14 * (radius*radius)\n",
    "circumference = 3.14 * (2*radius)\n",
    "compute(area, circumference)"
   ]
  },
  {
   "cell_type": "markdown",
   "id": "4c5d83bb",
   "metadata": {},
   "source": [
    "7. Write a function called multiply_two() that accepts two parameters. The function should print a message like '15 * 2 = 30'.  Randomly generate two numbers between 1 and 100, then call the function with the two random numbers."
   ]
  },
  {
   "cell_type": "code",
   "execution_count": 103,
   "id": "204c88ef",
   "metadata": {},
   "outputs": [
    {
     "data": {
      "text/plain": [
       "'98 * 41 = 4018'"
      ]
     },
     "execution_count": 103,
     "metadata": {},
     "output_type": "execute_result"
    }
   ],
   "source": [
    "def multiply_two(a, b):\n",
    "    return(f\"{a} * {b} = {a * b}\")\n",
    "a = rand.randint(1, 100)\n",
    "b = rand.randint(1, 100)\n",
    "multiply_two(a,b)"
   ]
  },
  {
   "cell_type": "markdown",
   "id": "36865477",
   "metadata": {},
   "source": [
    "8. Create a function for a multiplication table.  Get a number from a user and then call you function which produces a multiplication table for that number.\n",
    "The output should look something like this:\n",
    "\n",
    "        Enter a number: 3\n",
    "        3 X 1 = 3\n",
    "        3 X 2 = 6\n",
    "        3 X 3 = 9\n",
    "        3 X 4 = 12\n",
    "        3 X 5 = 15\n",
    "        3 X 6 = 18\n",
    "        3 X 7 = 21\n",
    "        3 X 8 = 24\n",
    "        3 X 9 = 27"
   ]
  },
  {
   "cell_type": "code",
   "execution_count": 122,
   "id": "574214e8",
   "metadata": {},
   "outputs": [
    {
     "name": "stdout",
     "output_type": "stream",
     "text": [
      "Enter the number:7\n",
      "7 * 1 = 7\n",
      "7 * 2 = 14\n",
      "7 * 3 = 21\n",
      "7 * 4 = 28\n",
      "7 * 5 = 35\n",
      "7 * 6 = 42\n",
      "7 * 7 = 49\n",
      "7 * 8 = 56\n",
      "7 * 9 = 63\n"
     ]
    }
   ],
   "source": [
    "def multiplication_table(x):\n",
    "    for y in range(1,10):\n",
    "        print(f\"{x} * {y} = {x * y}\")\n",
    "x = int(input(\"Enter the number:\"))\n",
    "multiplication_table(x)"
   ]
  },
  {
   "cell_type": "code",
   "execution_count": 137,
   "id": "e9f9c066",
   "metadata": {},
   "outputs": [
    {
     "name": "stdout",
     "output_type": "stream",
     "text": [
      "Enter the number:6\n",
      "6 * 1 = 6\n",
      "6 * 2 = 12\n",
      "6 * 3 = 18\n",
      "6 * 4 = 24\n",
      "6 * 5 = 30\n",
      "6 * 6 = 36\n",
      "6 * 7 = 42\n",
      "6 * 8 = 48\n",
      "6 * 9 = 54\n"
     ]
    }
   ],
   "source": [
    "def multiplication_table(x):\n",
    "    print(f\"{x} * {1} = {x * 1}\")\n",
    "    print(f\"{x} * {2} = {x * 2}\")\n",
    "    print(f\"{x} * {3} = {x * 3}\")\n",
    "    print(f\"{x} * {4} = {x * 4}\")\n",
    "    print(f\"{x} * {5} = {x * 5}\")\n",
    "    print(f\"{x} * {6} = {x * 6}\")\n",
    "    print(f\"{x} * {7} = {x * 7}\")\n",
    "    print(f\"{x} * {8} = {x * 8}\")\n",
    "    print(f\"{x} * {9} = {x * 9}\")\n",
    "x = int(input(\"Enter the number:\"))\n",
    "multiplication_table(x)"
   ]
  },
  {
   "cell_type": "code",
   "execution_count": 124,
   "id": "b023e863",
   "metadata": {},
   "outputs": [
    {
     "name": "stdout",
     "output_type": "stream",
     "text": [
      "Enter a number: 5\n",
      "5 * 1 = 5\n",
      "5 * 2 = 10\n"
     ]
    }
   ],
   "source": [
    "def multiplication_table(n, a = 1, b = 2, c = 3, d = 4, e = 5, f = 6, g = 7, i = 8, h = 9):\n",
    "    print(f\"{n} * {a} = {n * a}\")\n",
    "    print(f\"{n} * {b} = {n * b}\")\n",
    "n = int(input(\"Enter a number: \"))\n",
    "multiplication_table(n, a = 1, b = 2, c = 3, d = 4, e = 5, f = 6, g = 7, i = 8, h = 9)\n"
   ]
  }
 ],
 "metadata": {
  "kernelspec": {
   "display_name": "Python 3 (ipykernel)",
   "language": "python",
   "name": "python3"
  },
  "language_info": {
   "codemirror_mode": {
    "name": "ipython",
    "version": 3
   },
   "file_extension": ".py",
   "mimetype": "text/x-python",
   "name": "python",
   "nbconvert_exporter": "python",
   "pygments_lexer": "ipython3",
   "version": "3.9.13"
  }
 },
 "nbformat": 4,
 "nbformat_minor": 5
}
