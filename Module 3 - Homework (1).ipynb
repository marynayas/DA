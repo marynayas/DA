{
 "cells": [
  {
   "cell_type": "markdown",
   "metadata": {},
   "source": [
    "### Exercise 1\n",
    "Ask a user for 5 names and place each one in to a list called <i>names</i>. Then, print <i>names</i>."
   ]
  },
  {
   "cell_type": "code",
   "execution_count": 75,
   "metadata": {},
   "outputs": [
    {
     "name": "stdout",
     "output_type": "stream",
     "text": [
      "Please, enter the first name: Maryna\n",
      "Please, enter the second name: Volodymyr\n",
      "Please, enter the third name: Danylo\n",
      "Please, enter the fourth name: Oksana\n",
      "Please, enter the fifth name: Iryna\n",
      "['Maryna', 'Volodymyr', 'Danylo', 'Oksana', 'Iryna']\n"
     ]
    }
   ],
   "source": [
    "\n",
    "n1 = (input(f\"Please, enter the first name: \"))\n",
    "n2 = (input(f\"Please, enter the second name: \"))\n",
    "n3 = (input(f\"Please, enter the third name: \"))\n",
    "n4 = (input(f\"Please, enter the fourth name: \"))\n",
    "n5 = (input(f\"Please, enter the fifth name: \"))\n",
    "names = [n1, n2, n3, n4, n5]\n",
    "print (names)"
   ]
  },
  {
   "cell_type": "code",
   "execution_count": 26,
   "metadata": {},
   "outputs": [
    {
     "name": "stdout",
     "output_type": "stream",
     "text": [
      "Please, enter the first name: Kate\n",
      "Please, enter the first name: Zamira\n",
      "Please, enter the first name: Sasha\n",
      "['Kate', 'Zamira', 'Sasha']\n"
     ]
    }
   ],
   "source": [
    "names1 = []\n",
    "names1.append(input(f\"Please, enter the first name: \"))\n",
    "names1.append(input(f\"Please, enter the first name: \"))\n",
    "names1.append(input(f\"Please, enter the first name: \"))\n",
    "\n",
    "print(names1)"
   ]
  },
  {
   "cell_type": "markdown",
   "metadata": {},
   "source": [
    "### Exercise 2\n",
    "Print out a randomly selected name in the names list."
   ]
  },
  {
   "cell_type": "code",
   "execution_count": 81,
   "metadata": {},
   "outputs": [
    {
     "name": "stdout",
     "output_type": "stream",
     "text": [
      "Iryna\n"
     ]
    }
   ],
   "source": [
    "print(random.choice(names))"
   ]
  },
  {
   "cell_type": "code",
   "execution_count": 73,
   "metadata": {},
   "outputs": [
    {
     "name": "stdout",
     "output_type": "stream",
     "text": [
      "Kate\n"
     ]
    }
   ],
   "source": [
    "print(random.choice(names1))"
   ]
  },
  {
   "cell_type": "markdown",
   "metadata": {},
   "source": [
    "### Exercise 3\n",
    "\n",
    "Ask a user for a specific color and store that value into a variable. If the answer is gray, print \"You found Victor's favorite color!\". If the answer is anything besides gray, print \"[color name] is not Victor's favorite color.\""
   ]
  },
  {
   "cell_type": "code",
   "execution_count": 60,
   "metadata": {},
   "outputs": [
    {
     "name": "stdout",
     "output_type": "stream",
     "text": [
      "Enter your color: pink\n",
      "pink is not Victor's favorite color.\n"
     ]
    }
   ],
   "source": [
    "color = input(f\"Enter your color: \")\n",
    "x = color\n",
    "if x == \"gray\":\n",
    "    print(\"You found Victor's favorite color!\")\n",
    "else:\n",
    "    print(f\"{color} is not Victor's favorite color.\")"
   ]
  },
  {
   "cell_type": "code",
   "execution_count": 82,
   "metadata": {},
   "outputs": [
    {
     "name": "stdout",
     "output_type": "stream",
     "text": [
      "Enter your color: gray\n",
      "You found Victor's favorite color!\n"
     ]
    }
   ],
   "source": [
    "color = input(f\"Enter your color: \")\n",
    "x = color\n",
    "if x == \"gray\":\n",
    "    print(\"You found Victor's favorite color!\")\n",
    "else:\n",
    "    print(f\"{color} is not Victor's favorite color.\")"
   ]
  },
  {
   "cell_type": "markdown",
   "metadata": {},
   "source": [
    "### Exercise 4\n",
    "Ask for an exam score and store that number. If the number is greater than 100, then print out 'You cannot have an exam score higher than 100'. If the number doesn't exceeed 100 but is greater than or equal to 75, then print out 'You did great on your exam!'. Otherwise if they scored lower than 75, then print out 'You need to study harder'."
   ]
  },
  {
   "cell_type": "code",
   "execution_count": 69,
   "metadata": {},
   "outputs": [
    {
     "name": "stdout",
     "output_type": "stream",
     "text": [
      "Enter your exam score: 70\n",
      "You need to study harder.\n"
     ]
    }
   ],
   "source": [
    "exam_score = int(input(f\"Enter your exam score: \"))\n",
    "if exam_score > 100:\n",
    "    print(\"You cannot have an exam score higher than 100\")\n",
    "elif exam_score >= 75:\n",
    "    print(\"You did great om your exam!\")\n",
    "elif exam_score < 75:\n",
    "    print(\"You need to study harder.\")"
   ]
  },
  {
   "cell_type": "code",
   "execution_count": 83,
   "metadata": {},
   "outputs": [
    {
     "name": "stdout",
     "output_type": "stream",
     "text": [
      "Enter your exam score: 120\n",
      "You cannot have an exam score higher than 100\n"
     ]
    }
   ],
   "source": [
    "exam_score = int(input(f\"Enter your exam score: \"))\n",
    "if exam_score > 100:\n",
    "    print(\"You cannot have an exam score higher than 100\")\n",
    "elif exam_score >= 75:\n",
    "    print(\"You did great om your exam!\")\n",
    "elif exam_score < 75:\n",
    "    print(\"You need to study harder.\")"
   ]
  },
  {
   "cell_type": "code",
   "execution_count": 84,
   "metadata": {},
   "outputs": [
    {
     "name": "stdout",
     "output_type": "stream",
     "text": [
      "Enter your exam score: 80\n",
      "You did great om your exam!\n"
     ]
    }
   ],
   "source": [
    "exam_score = int(input(f\"Enter your exam score: \"))\n",
    "if exam_score > 100:\n",
    "    print(\"You cannot have an exam score higher than 100\")\n",
    "elif exam_score >= 75:\n",
    "    print(\"You did great om your exam!\")\n",
    "elif exam_score < 75:\n",
    "    print(\"You need to study harder.\")"
   ]
  }
 ],
 "metadata": {
  "kernelspec": {
   "display_name": "Python 3 (ipykernel)",
   "language": "python",
   "name": "python3"
  },
  "language_info": {
   "codemirror_mode": {
    "name": "ipython",
    "version": 3
   },
   "file_extension": ".py",
   "mimetype": "text/x-python",
   "name": "python",
   "nbconvert_exporter": "python",
   "pygments_lexer": "ipython3",
   "version": "3.9.13"
  }
 },
 "nbformat": 4,
 "nbformat_minor": 4
}
