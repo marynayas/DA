{
 "cells": [
  {
   "cell_type": "markdown",
   "id": "d50a2161",
   "metadata": {},
   "source": [
    "# Python Review #1\n",
    "\n",
    "Using what you learned in the modules, answer the questions below. Take your time and use all the information in the modules as your guide and resource. This isn't about memorization - this is about practicing skills! Good Luck!"
   ]
  },
  {
   "cell_type": "markdown",
   "id": "25a8ea5e",
   "metadata": {},
   "source": [
    "## Module 1 Review"
   ]
  },
  {
   "cell_type": "markdown",
   "id": "68af75a9",
   "metadata": {},
   "source": [
    "#### COMMENTS\n",
    "\n",
    "Comments are not executed with the rest of the code when you run the cell. These are notes that give context to the code. "
   ]
  },
  {
   "cell_type": "markdown",
   "id": "03b7555a",
   "metadata": {},
   "source": [
    "1. Open any book, document, brochure, email around you. Take the first two sentences you find. Write the two sentences in a cell below. Assign one sentence to a variable name (save it as a string) and make the other sentence a comment. Run the cell. \n",
    "2. Switch the sentences (the first sentence is now a comment, the second sentence is now the string) and re-run the cell."
   ]
  },
  {
   "cell_type": "code",
   "execution_count": 184,
   "id": "588eaf65",
   "metadata": {},
   "outputs": [],
   "source": [
    "sentence1 = \"When he was nearly thirteen, my brother Jem got his arm badly broken.\"\n",
    "#When I heated, and Jem fears of never being able to play football were asssuaged."
   ]
  },
  {
   "cell_type": "code",
   "execution_count": 185,
   "id": "bba581f5",
   "metadata": {},
   "outputs": [],
   "source": [
    "#sentence1 = \"When he was nearly thirteen, my brother Jem got his arm badly broken.\"\n",
    "sentence2 = \"When I heated, and Jem fears of never being able to play football were asssuaged.\""
   ]
  },
  {
   "cell_type": "code",
   "execution_count": null,
   "id": "3254aa24",
   "metadata": {},
   "outputs": [],
   "source": []
  },
  {
   "cell_type": "markdown",
   "id": "17740879",
   "metadata": {},
   "source": [
    "#### DATA TYPES \n",
    "\n",
    "There are three data types that we will use continuously - integer, float, string. Each cell below includes one of these three data types. Using a comment, write the type of data in each cell next to the value. "
   ]
  },
  {
   "cell_type": "code",
   "execution_count": null,
   "id": "5a62d75a",
   "metadata": {},
   "outputs": [],
   "source": [
    "\"Hello\" #string"
   ]
  },
  {
   "cell_type": "code",
   "execution_count": null,
   "id": "450288c5",
   "metadata": {},
   "outputs": [],
   "source": [
    "156 #integer"
   ]
  },
  {
   "cell_type": "code",
   "execution_count": null,
   "id": "88978aba",
   "metadata": {},
   "outputs": [],
   "source": [
    "\"W45\" #string"
   ]
  },
  {
   "cell_type": "code",
   "execution_count": null,
   "id": "3377e32b",
   "metadata": {},
   "outputs": [],
   "source": [
    "12.567 #float"
   ]
  },
  {
   "cell_type": "code",
   "execution_count": null,
   "id": "a26454e1",
   "metadata": {},
   "outputs": [],
   "source": [
    "\"198 Spring Street, San Deigo, CA\" #string"
   ]
  },
  {
   "cell_type": "code",
   "execution_count": null,
   "id": "e3739e97",
   "metadata": {},
   "outputs": [],
   "source": [
    "1.87 #integer"
   ]
  },
  {
   "cell_type": "code",
   "execution_count": null,
   "id": "6d760ee7",
   "metadata": {},
   "outputs": [],
   "source": [
    "0.00000435 #float"
   ]
  },
  {
   "cell_type": "code",
   "execution_count": null,
   "id": "64358c93",
   "metadata": {},
   "outputs": [],
   "source": [
    "\"628\" #string"
   ]
  },
  {
   "cell_type": "code",
   "execution_count": null,
   "id": "835878ba",
   "metadata": {},
   "outputs": [],
   "source": [
    "1.111111114 #float"
   ]
  },
  {
   "cell_type": "code",
   "execution_count": null,
   "id": "14b73147",
   "metadata": {},
   "outputs": [],
   "source": [
    "4560886543 #integer"
   ]
  },
  {
   "cell_type": "markdown",
   "id": "08e1fea6",
   "metadata": {},
   "source": [
    "#### VARIABLES\n",
    "\n",
    "Variables hold information or a data value. To assign a value to a variable, use a single \"=\". Variables should be given meaningful names, can start with a letter or underscore (no numbers), and should follow <b>CamelType</b> or <b>snake_type</b> formatting. \n",
    "\n",
    "1. Write your birthday in longform (Month Day, Year) and save the value to a variable. Choose an appropriate name. \n",
    "2. Write the name of your favorite book. Save the value to a variable. Choose an appropriate name. \n",
    "3. Write the number of times you've eaten pizza in the past two weeks (0 can be an answer). Save the value to a variable. Choose an appropriate name. \n",
    "4. Write a float value with at least three digits after the decimal point. Save the value to a variable. Choose an appropriate name.\n",
    "5. Pick two additional sentences from the item referenced in the comments section. Write out the sentences and save them to a variable. Choose an appropriate name."
   ]
  },
  {
   "cell_type": "code",
   "execution_count": 4,
   "id": "062d9d1b",
   "metadata": {},
   "outputs": [],
   "source": [
    "my_birthday = \"June 21, 1989\" "
   ]
  },
  {
   "cell_type": "code",
   "execution_count": 5,
   "id": "e2db48d1",
   "metadata": {},
   "outputs": [],
   "source": [
    "my_favorite_book = \"Bible\""
   ]
  },
  {
   "cell_type": "code",
   "execution_count": 6,
   "id": "9818b7d7",
   "metadata": {},
   "outputs": [],
   "source": [
    "pizza_times = 3"
   ]
  },
  {
   "cell_type": "code",
   "execution_count": 7,
   "id": "1159efc0",
   "metadata": {},
   "outputs": [],
   "source": [
    "float_value = 3.444"
   ]
  },
  {
   "cell_type": "code",
   "execution_count": 8,
   "id": "2f58bd87",
   "metadata": {},
   "outputs": [],
   "source": [
    "sentences = \"When he was nearly thirteen, my brother Jem got his arm badly broken. When I heated, and Jem fears of never being able to play football were asssuaged.\""
   ]
  },
  {
   "cell_type": "markdown",
   "id": "86d96a13",
   "metadata": {},
   "source": [
    "#### PRINT AND TYPE FUNCTIONS\n",
    "\n",
    "The print function is crucial to your python knowledge. The print() function allows you to return a specific item, statement, word, number, etc. It is used to return (print, output, etc) information. Using all the variables you created in the step above, print each one in an individual cell. \n",
    "\n",
    "The type function allows you to return the type of data saved to a specific variable. Use the type() function to determine the type of data stored to each of your variables. "
   ]
  },
  {
   "cell_type": "code",
   "execution_count": 9,
   "id": "987beb96",
   "metadata": {},
   "outputs": [
    {
     "name": "stdout",
     "output_type": "stream",
     "text": [
      "June 21, 1989\n"
     ]
    }
   ],
   "source": [
    "print(my_birthday)"
   ]
  },
  {
   "cell_type": "code",
   "execution_count": 10,
   "id": "2c082463",
   "metadata": {},
   "outputs": [
    {
     "name": "stdout",
     "output_type": "stream",
     "text": [
      "Bible\n"
     ]
    }
   ],
   "source": [
    "print(my_favorite_book)"
   ]
  },
  {
   "cell_type": "code",
   "execution_count": 11,
   "id": "a9eaa5a2",
   "metadata": {},
   "outputs": [
    {
     "name": "stdout",
     "output_type": "stream",
     "text": [
      "3\n",
      "3.444\n",
      "When he was nearly thirteen, my brother Jem got his arm badly broken. When I heated, and Jem fears of never being able to play football were asssuaged.\n"
     ]
    }
   ],
   "source": [
    "print(pizza_times)\n",
    "print(float_value)\n",
    "print(sentences)"
   ]
  },
  {
   "cell_type": "code",
   "execution_count": 12,
   "id": "51c46a83",
   "metadata": {},
   "outputs": [
    {
     "data": {
      "text/plain": [
       "str"
      ]
     },
     "execution_count": 12,
     "metadata": {},
     "output_type": "execute_result"
    }
   ],
   "source": [
    "type(my_birthday)"
   ]
  },
  {
   "cell_type": "code",
   "execution_count": 13,
   "id": "4525cfe8",
   "metadata": {},
   "outputs": [
    {
     "data": {
      "text/plain": [
       "str"
      ]
     },
     "execution_count": 13,
     "metadata": {},
     "output_type": "execute_result"
    }
   ],
   "source": [
    "type(my_favorite_book)"
   ]
  },
  {
   "cell_type": "code",
   "execution_count": 14,
   "id": "a485d14e",
   "metadata": {},
   "outputs": [
    {
     "data": {
      "text/plain": [
       "int"
      ]
     },
     "execution_count": 14,
     "metadata": {},
     "output_type": "execute_result"
    }
   ],
   "source": [
    "type(pizza_times)"
   ]
  },
  {
   "cell_type": "code",
   "execution_count": 15,
   "id": "a9777cf9",
   "metadata": {},
   "outputs": [
    {
     "data": {
      "text/plain": [
       "float"
      ]
     },
     "execution_count": 15,
     "metadata": {},
     "output_type": "execute_result"
    }
   ],
   "source": [
    "type(float_value)"
   ]
  },
  {
   "cell_type": "code",
   "execution_count": 16,
   "id": "665be4d1",
   "metadata": {},
   "outputs": [
    {
     "data": {
      "text/plain": [
       "str"
      ]
     },
     "execution_count": 16,
     "metadata": {},
     "output_type": "execute_result"
    }
   ],
   "source": [
    "type(sentences)"
   ]
  },
  {
   "cell_type": "markdown",
   "id": "aeae11a2",
   "metadata": {},
   "source": [
    "#### ARITHMETIC OPERATORS\n",
    "\n",
    "Arithmetic operators allow you to do simple math with Python. Operators include: \n",
    "\n",
    "    +  : addition\n",
    "    -  : subtraction\n",
    "    *  : multiplication\n",
    "    /  : division\n",
    "    %  : modulo (finds the remainder of a division)\n",
    "    ** : exponent\n",
    "    // : floor division\n",
    "    \n",
    "In the cells below, insert any of the above operators to complete the equation. Print the result of the equation. "
   ]
  },
  {
   "cell_type": "code",
   "execution_count": 17,
   "id": "39040a42",
   "metadata": {},
   "outputs": [
    {
     "data": {
      "text/plain": [
       "11"
      ]
     },
     "execution_count": 17,
     "metadata": {},
     "output_type": "execute_result"
    }
   ],
   "source": [
    "9 + 2"
   ]
  },
  {
   "cell_type": "code",
   "execution_count": 18,
   "id": "10556873",
   "metadata": {},
   "outputs": [
    {
     "data": {
      "text/plain": [
       "111.0"
      ]
     },
     "execution_count": 18,
     "metadata": {},
     "output_type": "execute_result"
    }
   ],
   "source": [
    "189.0 - 78"
   ]
  },
  {
   "cell_type": "code",
   "execution_count": 19,
   "id": "08146d84",
   "metadata": {},
   "outputs": [
    {
     "data": {
      "text/plain": [
       "6"
      ]
     },
     "execution_count": 19,
     "metadata": {},
     "output_type": "execute_result"
    }
   ],
   "source": [
    "3 * 2"
   ]
  },
  {
   "cell_type": "code",
   "execution_count": 20,
   "id": "f7078161",
   "metadata": {},
   "outputs": [
    {
     "data": {
      "text/plain": [
       "0.375"
      ]
     },
     "execution_count": 20,
     "metadata": {},
     "output_type": "execute_result"
    }
   ],
   "source": [
    "3 / 8"
   ]
  },
  {
   "cell_type": "code",
   "execution_count": 21,
   "id": "dab7ca1c",
   "metadata": {},
   "outputs": [
    {
     "data": {
      "text/plain": [
       "999.0027"
      ]
     },
     "execution_count": 21,
     "metadata": {},
     "output_type": "execute_result"
    }
   ],
   "source": [
    "999.0027 % 2736.83"
   ]
  },
  {
   "cell_type": "code",
   "execution_count": 22,
   "id": "fc2f6a96",
   "metadata": {},
   "outputs": [
    {
     "data": {
      "text/plain": [
       "286296647198568771733609157020113746343214564499561381888"
      ]
     },
     "execution_count": 22,
     "metadata": {},
     "output_type": "execute_result"
    }
   ],
   "source": [
    "488 ** 21"
   ]
  },
  {
   "cell_type": "code",
   "execution_count": 23,
   "id": "9a967945",
   "metadata": {},
   "outputs": [
    {
     "data": {
      "text/plain": [
       "1"
      ]
     },
     "execution_count": 23,
     "metadata": {},
     "output_type": "execute_result"
    }
   ],
   "source": [
    "11 // 8"
   ]
  },
  {
   "cell_type": "code",
   "execution_count": 24,
   "id": "42e5ed80",
   "metadata": {},
   "outputs": [
    {
     "data": {
      "text/plain": [
       "54"
      ]
     },
     "execution_count": 24,
     "metadata": {},
     "output_type": "execute_result"
    }
   ],
   "source": [
    "45 + 9"
   ]
  },
  {
   "cell_type": "code",
   "execution_count": 25,
   "id": "49eb7508",
   "metadata": {},
   "outputs": [
    {
     "data": {
      "text/plain": [
       "785"
      ]
     },
     "execution_count": 25,
     "metadata": {},
     "output_type": "execute_result"
    }
   ],
   "source": [
    "808 - 23"
   ]
  },
  {
   "cell_type": "code",
   "execution_count": 26,
   "id": "f8484957",
   "metadata": {},
   "outputs": [
    {
     "data": {
      "text/plain": [
       "0"
      ]
     },
     "execution_count": 26,
     "metadata": {},
     "output_type": "execute_result"
    }
   ],
   "source": [
    "4 % 1"
   ]
  },
  {
   "cell_type": "code",
   "execution_count": 27,
   "id": "459eaeb0",
   "metadata": {},
   "outputs": [
    {
     "data": {
      "text/plain": [
       "0"
      ]
     },
     "execution_count": 27,
     "metadata": {},
     "output_type": "execute_result"
    }
   ],
   "source": [
    "0 % 28"
   ]
  },
  {
   "cell_type": "code",
   "execution_count": 28,
   "id": "95bced8c",
   "metadata": {},
   "outputs": [
    {
     "data": {
      "text/plain": [
       "0"
      ]
     },
     "execution_count": 28,
     "metadata": {},
     "output_type": "execute_result"
    }
   ],
   "source": [
    "435 // 982"
   ]
  },
  {
   "cell_type": "code",
   "execution_count": 29,
   "id": "e8528a78",
   "metadata": {},
   "outputs": [
    {
     "data": {
      "text/plain": [
       "2"
      ]
     },
     "execution_count": 29,
     "metadata": {},
     "output_type": "execute_result"
    }
   ],
   "source": [
    "6 // 3"
   ]
  },
  {
   "cell_type": "code",
   "execution_count": 30,
   "id": "adf2aa7d",
   "metadata": {},
   "outputs": [
    {
     "data": {
      "text/plain": [
       "1.5"
      ]
     },
     "execution_count": 30,
     "metadata": {},
     "output_type": "execute_result"
    }
   ],
   "source": [
    "1 * 1.5"
   ]
  },
  {
   "cell_type": "code",
   "execution_count": 31,
   "id": "636e2e43",
   "metadata": {},
   "outputs": [
    {
     "data": {
      "text/plain": [
       "67"
      ]
     },
     "execution_count": 31,
     "metadata": {},
     "output_type": "execute_result"
    }
   ],
   "source": [
    "65 + 2"
   ]
  },
  {
   "cell_type": "code",
   "execution_count": 32,
   "id": "a6a68f4d",
   "metadata": {},
   "outputs": [
    {
     "data": {
      "text/plain": [
       "90"
      ]
     },
     "execution_count": 32,
     "metadata": {},
     "output_type": "execute_result"
    }
   ],
   "source": [
    "10 * 9"
   ]
  },
  {
   "cell_type": "code",
   "execution_count": 33,
   "id": "a57f3f9a",
   "metadata": {},
   "outputs": [
    {
     "data": {
      "text/plain": [
       "242"
      ]
     },
     "execution_count": 33,
     "metadata": {},
     "output_type": "execute_result"
    }
   ],
   "source": [
    "245 - 3"
   ]
  },
  {
   "cell_type": "code",
   "execution_count": 34,
   "id": "84b3d549",
   "metadata": {},
   "outputs": [
    {
     "data": {
      "text/plain": [
       "0"
      ]
     },
     "execution_count": 34,
     "metadata": {},
     "output_type": "execute_result"
    }
   ],
   "source": [
    "33 * 0"
   ]
  },
  {
   "cell_type": "code",
   "execution_count": 35,
   "id": "a58d40d6",
   "metadata": {},
   "outputs": [
    {
     "data": {
      "text/plain": [
       "4"
      ]
     },
     "execution_count": 35,
     "metadata": {},
     "output_type": "execute_result"
    }
   ],
   "source": [
    "9 // 2"
   ]
  },
  {
   "cell_type": "code",
   "execution_count": 36,
   "id": "d0db87ca",
   "metadata": {},
   "outputs": [
    {
     "data": {
      "text/plain": [
       "1"
      ]
     },
     "execution_count": 36,
     "metadata": {},
     "output_type": "execute_result"
    }
   ],
   "source": [
    "89 // 78"
   ]
  },
  {
   "cell_type": "markdown",
   "id": "4847f855",
   "metadata": {},
   "source": [
    "#### COMPOUND OPERATORS\n",
    "\n",
    "Change the value of a variable and re-assign the new value to the same variable. This method saves you a step; all compound operators follow the same pattern:\n",
    "    \n",
    "    variable_a = variable_a + 10 <<<--->>> variable_a += 10\n",
    "    \n",
    "variable_a is now equal to the original value of variable_a plus 10. Compound operators include:\n",
    "\n",
    "    +=  : a = a + b\n",
    "    -=  : a = a - b\n",
    "    *=  : a = a * b\n",
    "    /=  : a = a / b\n",
    "    %=  : a = a % b\n",
    "    **= : a = a ** b\n",
    "    //= : a = a // b\n",
    "    \n",
    "Convert all the equations below to use compound operators. "
   ]
  },
  {
   "cell_type": "code",
   "execution_count": 161,
   "id": "e404834e",
   "metadata": {},
   "outputs": [
    {
     "data": {
      "text/plain": [
       "4"
      ]
     },
     "execution_count": 161,
     "metadata": {},
     "output_type": "execute_result"
    }
   ],
   "source": [
    "\n",
    "9// 2\n"
   ]
  },
  {
   "cell_type": "code",
   "execution_count": 76,
   "id": "ffd9df79",
   "metadata": {},
   "outputs": [
    {
     "name": "stdout",
     "output_type": "stream",
     "text": [
      "4\n"
     ]
    }
   ],
   "source": [
    "a = 9\n",
    "\n",
    "a//=2\n",
    "\n",
    "print(a)"
   ]
  },
  {
   "cell_type": "code",
   "execution_count": 77,
   "id": "822faf79",
   "metadata": {},
   "outputs": [
    {
     "name": "stdout",
     "output_type": "stream",
     "text": [
      "267.0\n"
     ]
    }
   ],
   "source": [
    "189.0 + 78\n",
    "b = 189.0\n",
    "b+=78\n",
    "print(b)\n"
   ]
  },
  {
   "cell_type": "code",
   "execution_count": 78,
   "id": "6258bd09",
   "metadata": {},
   "outputs": [
    {
     "name": "stdout",
     "output_type": "stream",
     "text": [
      "1\n"
     ]
    }
   ],
   "source": [
    "c = 3\n",
    "c-=2\n",
    "print(c)"
   ]
  },
  {
   "cell_type": "code",
   "execution_count": 145,
   "id": "4f75b3dd",
   "metadata": {},
   "outputs": [
    {
     "name": "stdout",
     "output_type": "stream",
     "text": [
      "6\n"
     ]
    }
   ],
   "source": [
    "5 + 1\n",
    "e = 5\n",
    "e+=1\n",
    "print(e)"
   ]
  },
  {
   "cell_type": "code",
   "execution_count": 146,
   "id": "7ccd412b",
   "metadata": {},
   "outputs": [
    {
     "data": {
      "text/plain": [
       "0"
      ]
     },
     "execution_count": 146,
     "metadata": {},
     "output_type": "execute_result"
    }
   ],
   "source": [
    "8 * 0\n"
   ]
  },
  {
   "cell_type": "code",
   "execution_count": 147,
   "id": "49d50243",
   "metadata": {},
   "outputs": [
    {
     "name": "stdout",
     "output_type": "stream",
     "text": [
      "0\n"
     ]
    }
   ],
   "source": [
    "f = 8\n",
    "f*=0\n",
    "print(f)"
   ]
  },
  {
   "cell_type": "code",
   "execution_count": 149,
   "id": "85927104",
   "metadata": {},
   "outputs": [
    {
     "data": {
      "text/plain": [
       "0"
      ]
     },
     "execution_count": 149,
     "metadata": {},
     "output_type": "execute_result"
    }
   ],
   "source": [
    "4 % 1"
   ]
  },
  {
   "cell_type": "code",
   "execution_count": 148,
   "id": "01210e8d",
   "metadata": {},
   "outputs": [
    {
     "name": "stdout",
     "output_type": "stream",
     "text": [
      "0\n"
     ]
    }
   ],
   "source": [
    "g = 4\n",
    "g %=1\n",
    "print(g)"
   ]
  },
  {
   "cell_type": "code",
   "execution_count": 151,
   "id": "c98f0c5b",
   "metadata": {},
   "outputs": [
    {
     "data": {
      "text/plain": [
       "2"
      ]
     },
     "execution_count": 151,
     "metadata": {},
     "output_type": "execute_result"
    }
   ],
   "source": [
    "5 // 2"
   ]
  },
  {
   "cell_type": "code",
   "execution_count": 150,
   "id": "213d7639",
   "metadata": {},
   "outputs": [
    {
     "name": "stdout",
     "output_type": "stream",
     "text": [
      "2\n"
     ]
    }
   ],
   "source": [
    "h = 5\n",
    "h//=2\n",
    "print(h)"
   ]
  },
  {
   "cell_type": "code",
   "execution_count": 152,
   "id": "5976228b",
   "metadata": {},
   "outputs": [
    {
     "data": {
      "text/plain": [
       "2.0"
      ]
     },
     "execution_count": 152,
     "metadata": {},
     "output_type": "execute_result"
    }
   ],
   "source": [
    "6 / 3"
   ]
  },
  {
   "cell_type": "code",
   "execution_count": 153,
   "id": "4576a7e3",
   "metadata": {},
   "outputs": [
    {
     "name": "stdout",
     "output_type": "stream",
     "text": [
      "2.0\n"
     ]
    }
   ],
   "source": [
    "i = 6\n",
    "i/=3\n",
    "print(i)"
   ]
  },
  {
   "cell_type": "code",
   "execution_count": 154,
   "id": "42dc1e45",
   "metadata": {},
   "outputs": [
    {
     "data": {
      "text/plain": [
       "18"
      ]
     },
     "execution_count": 154,
     "metadata": {},
     "output_type": "execute_result"
    }
   ],
   "source": [
    "9 * 2"
   ]
  },
  {
   "cell_type": "code",
   "execution_count": 155,
   "id": "b9797c32",
   "metadata": {},
   "outputs": [
    {
     "name": "stdout",
     "output_type": "stream",
     "text": [
      "18\n"
     ]
    }
   ],
   "source": [
    "j = 9\n",
    "j*=2\n",
    "print(j)"
   ]
  },
  {
   "cell_type": "code",
   "execution_count": 156,
   "id": "c50af2d5",
   "metadata": {},
   "outputs": [
    {
     "data": {
      "text/plain": [
       "9"
      ]
     },
     "execution_count": 156,
     "metadata": {},
     "output_type": "execute_result"
    }
   ],
   "source": [
    "10 - 1"
   ]
  },
  {
   "cell_type": "code",
   "execution_count": 158,
   "id": "7d5b96b1",
   "metadata": {},
   "outputs": [
    {
     "name": "stdout",
     "output_type": "stream",
     "text": [
      "9\n"
     ]
    }
   ],
   "source": [
    "k = 10\n",
    "k-=1\n",
    "print(k)"
   ]
  },
  {
   "cell_type": "code",
   "execution_count": 159,
   "id": "ebad1582",
   "metadata": {},
   "outputs": [
    {
     "data": {
      "text/plain": [
       "625"
      ]
     },
     "execution_count": 159,
     "metadata": {},
     "output_type": "execute_result"
    }
   ],
   "source": [
    "5 ** 4"
   ]
  },
  {
   "cell_type": "code",
   "execution_count": 160,
   "id": "93bd62fb",
   "metadata": {},
   "outputs": [
    {
     "name": "stdout",
     "output_type": "stream",
     "text": [
      "625\n"
     ]
    }
   ],
   "source": [
    "l = 5\n",
    "l**=4\n",
    "print(l)"
   ]
  },
  {
   "cell_type": "code",
   "execution_count": 162,
   "id": "24f4ccb5",
   "metadata": {},
   "outputs": [
    {
     "data": {
      "text/plain": [
       "6"
      ]
     },
     "execution_count": 162,
     "metadata": {},
     "output_type": "execute_result"
    }
   ],
   "source": [
    "8 - 2"
   ]
  },
  {
   "cell_type": "code",
   "execution_count": 163,
   "id": "57016f29",
   "metadata": {},
   "outputs": [
    {
     "name": "stdout",
     "output_type": "stream",
     "text": [
      "6\n"
     ]
    }
   ],
   "source": [
    "m = 8\n",
    "m-=2\n",
    "print(m)"
   ]
  },
  {
   "cell_type": "code",
   "execution_count": 164,
   "id": "f2b5e89e",
   "metadata": {},
   "outputs": [
    {
     "data": {
      "text/plain": [
       "12"
      ]
     },
     "execution_count": 164,
     "metadata": {},
     "output_type": "execute_result"
    }
   ],
   "source": [
    "10 + 2"
   ]
  },
  {
   "cell_type": "code",
   "execution_count": 165,
   "id": "0092d277",
   "metadata": {},
   "outputs": [
    {
     "name": "stdout",
     "output_type": "stream",
     "text": [
      "12\n"
     ]
    }
   ],
   "source": [
    "n = 10\n",
    "n+=2\n",
    "print(n)"
   ]
  },
  {
   "cell_type": "code",
   "execution_count": 166,
   "id": "1a964bed",
   "metadata": {},
   "outputs": [
    {
     "data": {
      "text/plain": [
       "18.7"
      ]
     },
     "execution_count": 166,
     "metadata": {},
     "output_type": "execute_result"
    }
   ],
   "source": [
    "11 * 1.7"
   ]
  },
  {
   "cell_type": "code",
   "execution_count": 167,
   "id": "5c13e156",
   "metadata": {},
   "outputs": [
    {
     "name": "stdout",
     "output_type": "stream",
     "text": [
      "18.7\n"
     ]
    }
   ],
   "source": [
    "o = 11\n",
    "o*=1.7\n",
    "print(o)"
   ]
  },
  {
   "cell_type": "code",
   "execution_count": 168,
   "id": "cef300d5",
   "metadata": {},
   "outputs": [
    {
     "data": {
      "text/plain": [
       "6"
      ]
     },
     "execution_count": 168,
     "metadata": {},
     "output_type": "execute_result"
    }
   ],
   "source": [
    "9 - 3"
   ]
  },
  {
   "cell_type": "code",
   "execution_count": 169,
   "id": "f66f808a",
   "metadata": {},
   "outputs": [
    {
     "name": "stdout",
     "output_type": "stream",
     "text": [
      "6\n"
     ]
    }
   ],
   "source": [
    "p = 9\n",
    "p-=3\n",
    "print(p)"
   ]
  },
  {
   "cell_type": "code",
   "execution_count": 171,
   "id": "4ac33b3d",
   "metadata": {},
   "outputs": [
    {
     "data": {
      "text/plain": [
       "2401"
      ]
     },
     "execution_count": 171,
     "metadata": {},
     "output_type": "execute_result"
    }
   ],
   "source": [
    "7 ** 4"
   ]
  },
  {
   "cell_type": "code",
   "execution_count": 170,
   "id": "32106a70",
   "metadata": {},
   "outputs": [
    {
     "name": "stdout",
     "output_type": "stream",
     "text": [
      "2401\n"
     ]
    }
   ],
   "source": [
    "q = 7\n",
    "q**=4\n",
    "print(q)"
   ]
  },
  {
   "cell_type": "code",
   "execution_count": 172,
   "id": "6623aad6",
   "metadata": {},
   "outputs": [
    {
     "data": {
      "text/plain": [
       "1"
      ]
     },
     "execution_count": 172,
     "metadata": {},
     "output_type": "execute_result"
    }
   ],
   "source": [
    "11 % 2"
   ]
  },
  {
   "cell_type": "code",
   "execution_count": 173,
   "id": "95755283",
   "metadata": {},
   "outputs": [
    {
     "name": "stdout",
     "output_type": "stream",
     "text": [
      "1\n"
     ]
    }
   ],
   "source": [
    "r = 11\n",
    "r%=2\n",
    "print(r)"
   ]
  },
  {
   "cell_type": "code",
   "execution_count": 174,
   "id": "73fc9417",
   "metadata": {},
   "outputs": [
    {
     "data": {
      "text/plain": [
       "2.0"
      ]
     },
     "execution_count": 174,
     "metadata": {},
     "output_type": "execute_result"
    }
   ],
   "source": [
    "8 / 4"
   ]
  },
  {
   "cell_type": "code",
   "execution_count": 175,
   "id": "be5a18a2",
   "metadata": {},
   "outputs": [
    {
     "name": "stdout",
     "output_type": "stream",
     "text": [
      "2.0\n"
     ]
    }
   ],
   "source": [
    "s = 8\n",
    "s/=4\n",
    "print(s)"
   ]
  },
  {
   "cell_type": "code",
   "execution_count": 176,
   "id": "a7b938dc",
   "metadata": {},
   "outputs": [
    {
     "data": {
      "text/plain": [
       "25"
      ]
     },
     "execution_count": 176,
     "metadata": {},
     "output_type": "execute_result"
    }
   ],
   "source": [
    "5 * 5"
   ]
  },
  {
   "cell_type": "code",
   "execution_count": 177,
   "id": "691a2a5c",
   "metadata": {},
   "outputs": [
    {
     "name": "stdout",
     "output_type": "stream",
     "text": [
      "25\n"
     ]
    }
   ],
   "source": [
    "t = 5\n",
    "t*=5\n",
    "print(t)"
   ]
  },
  {
   "cell_type": "code",
   "execution_count": 178,
   "id": "0d726462",
   "metadata": {},
   "outputs": [
    {
     "data": {
      "text/plain": [
       "2"
      ]
     },
     "execution_count": 178,
     "metadata": {},
     "output_type": "execute_result"
    }
   ],
   "source": [
    "7 % 5"
   ]
  },
  {
   "cell_type": "code",
   "execution_count": 179,
   "id": "7e092351",
   "metadata": {},
   "outputs": [
    {
     "name": "stdout",
     "output_type": "stream",
     "text": [
      "2\n"
     ]
    }
   ],
   "source": [
    "u = 7\n",
    "u%=5\n",
    "print(u)"
   ]
  },
  {
   "cell_type": "code",
   "execution_count": 180,
   "id": "8b14a330",
   "metadata": {},
   "outputs": [
    {
     "data": {
      "text/plain": [
       "32768"
      ]
     },
     "execution_count": 180,
     "metadata": {},
     "output_type": "execute_result"
    }
   ],
   "source": [
    "8 ** 5"
   ]
  },
  {
   "cell_type": "code",
   "execution_count": 181,
   "id": "540e21f6",
   "metadata": {},
   "outputs": [
    {
     "name": "stdout",
     "output_type": "stream",
     "text": [
      "32768\n"
     ]
    }
   ],
   "source": [
    "v = 8\n",
    "v**=5\n",
    "print(v)"
   ]
  },
  {
   "cell_type": "code",
   "execution_count": 182,
   "id": "22f9b389",
   "metadata": {},
   "outputs": [
    {
     "data": {
      "text/plain": [
       "4"
      ]
     },
     "execution_count": 182,
     "metadata": {},
     "output_type": "execute_result"
    }
   ],
   "source": [
    "12 // 3"
   ]
  },
  {
   "cell_type": "code",
   "execution_count": 183,
   "id": "95faf054",
   "metadata": {},
   "outputs": [
    {
     "name": "stdout",
     "output_type": "stream",
     "text": [
      "4\n"
     ]
    }
   ],
   "source": [
    "w = 12\n",
    "w//=3\n",
    "print(w)"
   ]
  },
  {
   "cell_type": "markdown",
   "id": "ded228b7",
   "metadata": {},
   "source": [
    "#### ESCAPE CHARACTERS\n",
    "\n",
    "An escape character allows you to include special characters in a string that would otherwise return an error. To use escape characters, add a backslash (\\) before the character you want to escape:\n",
    "\n",
    "    \" \\ \" use a single backslash to add apostrophe's in strings \n",
    "    \" \\n \" use to insert new lines in your strings\n",
    "    \" \\t \" use to insert tab spaces into your strings\n",
    "    \n",
    "Fix the code below to insert the correct escape character into the string. "
   ]
  },
  {
   "cell_type": "code",
   "execution_count": 59,
   "id": "f32087c4",
   "metadata": {},
   "outputs": [
    {
     "name": "stdout",
     "output_type": "stream",
     "text": [
      "Hello, what's up?\n"
     ]
    }
   ],
   "source": [
    "print(\"Hello, what's up?\")"
   ]
  },
  {
   "cell_type": "code",
   "execution_count": 55,
   "id": "f95259b6",
   "metadata": {},
   "outputs": [
    {
     "name": "stdout",
     "output_type": "stream",
     "text": [
      "\n",
      " Hello, I wish the first hello was on its own line!\n"
     ]
    }
   ],
   "source": [
    "print(\"\\n Hello, I wish the first hello was on its own line!\")"
   ]
  },
  {
   "cell_type": "code",
   "execution_count": 60,
   "id": "4f91339d",
   "metadata": {},
   "outputs": [
    {
     "name": "stdout",
     "output_type": "stream",
     "text": [
      "\t Hello I wish there was a long space after the first Hello.\n"
     ]
    }
   ],
   "source": [
    "print(\"\\t Hello I wish there was a long space after the first Hello.\")"
   ]
  },
  {
   "cell_type": "markdown",
   "id": "26b9ffa2",
   "metadata": {},
   "source": [
    "#### FORMATTED STRINGS PT 1\n",
    "\n",
    "Formatted strings allow you to return strings with specific formatting. A formatted string uses the following code to product output that looks a certain way:\n",
    "\n",
    "    {}  : a place holder\n",
    "\n",
    "The placeholder is used to insert the value of a specific variable into the string. All you need to do is insert the name of the variable and whatever value is assigned to that variable will show up when you print the statement. Complete the code in the cells below to print out the proper formatted strings. "
   ]
  },
  {
   "cell_type": "code",
   "execution_count": 62,
   "id": "5a18b3b4",
   "metadata": {},
   "outputs": [
    {
     "name": "stdout",
     "output_type": "stream",
     "text": [
      "Hello, Jasmine!\n"
     ]
    }
   ],
   "source": [
    "x = \"Jasmine\"\n",
    "\n",
    "## complete the code below to print the statement \"Hello, [name]!\"\n",
    "\n",
    "print(f\"Hello, {x}!\")"
   ]
  },
  {
   "cell_type": "code",
   "execution_count": 63,
   "id": "ceed705f",
   "metadata": {},
   "outputs": [
    {
     "name": "stdout",
     "output_type": "stream",
     "text": [
      "My favorite animal is a Cat\n"
     ]
    }
   ],
   "source": [
    "x = \"Cat\"\n",
    "\n",
    "## complete the code below to print the statement \"My favorite animal is a Cat\"\n",
    "\n",
    "print(f\"My favorite animal is a {x}\")"
   ]
  },
  {
   "cell_type": "code",
   "execution_count": 64,
   "id": "1bcc9a0d",
   "metadata": {},
   "outputs": [
    {
     "name": "stdout",
     "output_type": "stream",
     "text": [
      "My favorite actor is Tom Hanks\n"
     ]
    }
   ],
   "source": [
    "x = \"Hank\"\n",
    "\n",
    "## complete the code below to print the statement \"My favorite actor is Tom Hanks\"\n",
    "\n",
    "print(f\"My favorite actor is Tom {x}s\")"
   ]
  },
  {
   "cell_type": "code",
   "execution_count": 68,
   "id": "251f7329",
   "metadata": {},
   "outputs": [
    {
     "name": "stdout",
     "output_type": "stream",
     "text": [
      "Let's play chess, which color do you want to be? Black or White?\n"
     ]
    }
   ],
   "source": [
    "x = \"Black\"\n",
    "y = \"White\"\n",
    "\n",
    "## complete the code below to print the statement \"Let's play chess, which color do you want to be? Black or White?\"\n",
    "\n",
    "print(f\"Let's play chess, which color do you want to be? {x} or {y}?\")"
   ]
  },
  {
   "cell_type": "code",
   "execution_count": 69,
   "id": "a90dee16",
   "metadata": {},
   "outputs": [
    {
     "name": "stdout",
     "output_type": "stream",
     "text": [
      "The three cities I visited during my vacation were Paris, Dublin, and Bristol.\n"
     ]
    }
   ],
   "source": [
    "a = \"Paris\"\n",
    "b = \"Dublin\"\n",
    "c = \"Bristol\"\n",
    "\n",
    "## complete the code below to print the statement \"The three cities I visited during my vacation were Paris, Bristol, and Dublin.\"\n",
    "\n",
    "print(f\"The three cities I visited during my vacation were {a}, {b}, and {c}.\")"
   ]
  },
  {
   "cell_type": "markdown",
   "id": "c43d80dc",
   "metadata": {},
   "source": [
    "#### FORMATTED STRINGS PT 2\n",
    "\n",
    "Formatted strings allow you to return strings with specific formatting. A formatted string uses the following code to product output that looks a certain way:\n",
    "\n",
    "    ,   : shows commas in thousands place\n",
    "    .2f : shows 2 digits after the decimal point\n",
    "    .2% : shows 2 digits after the decimal point in percentage (%)\n",
    "\n",
    "The numeric formatting options allow you to return a number with a specific format. Typically, this includes adding a comma in the thousands place and truncating the amount of digits found after a decimal point. Complete the following questions in the cells below:\n",
    "\n",
    "1. Print the following number with commas and 1 number after the decimal: 49792862.39231\n",
    "2. Print the following number with commas and 3 number after the decimal: 3999876.009\n",
    "3. Print the following number as a percentage with 2 numbers after the decimal: .03974\n",
    "4. Print the following number with commas: 1000000000000000000\n",
    "5. Write the code to produce this output: 7, 890.00\n",
    "6. Write the code to product this output: 567.00045\n",
    "7. Print the following number with commas and no numbers after the decimal: 3450000"
   ]
  },
  {
   "cell_type": "code",
   "execution_count": 74,
   "id": "ec1a4d0a",
   "metadata": {},
   "outputs": [
    {
     "name": "stdout",
     "output_type": "stream",
     "text": [
      "49,792,862.4\n"
     ]
    }
   ],
   "source": [
    "a = 49792862.39231\n",
    "print(f\"{a:,.1f}\")"
   ]
  },
  {
   "cell_type": "code",
   "execution_count": 75,
   "id": "0e45bfe0",
   "metadata": {},
   "outputs": [
    {
     "name": "stdout",
     "output_type": "stream",
     "text": [
      "3,999,876.009\n"
     ]
    }
   ],
   "source": [
    "b = 3999876.009\n",
    "print(f\"{b:,.2%}\")"
   ]
  },
  {
   "cell_type": "code",
   "execution_count": 82,
   "id": "98930a6b",
   "metadata": {},
   "outputs": [
    {
     "name": "stdout",
     "output_type": "stream",
     "text": [
      "3.97%\n"
     ]
    }
   ],
   "source": [
    "c = .03974\n",
    "print(f\"{c:.2%}\")"
   ]
  },
  {
   "cell_type": "code",
   "execution_count": 83,
   "id": "8496ee78",
   "metadata": {},
   "outputs": [
    {
     "name": "stdout",
     "output_type": "stream",
     "text": [
      "1,000,000,000,000,000,000\n"
     ]
    }
   ],
   "source": [
    "commas = 1000000000000000000\n",
    "print(f\"{commas:,}\")"
   ]
  },
  {
   "cell_type": "code",
   "execution_count": 97,
   "id": "87bd097a",
   "metadata": {},
   "outputs": [
    {
     "name": "stdout",
     "output_type": "stream",
     "text": [
      "7,890.00\n"
     ]
    }
   ],
   "source": [
    "#output = 7, 890.00\n",
    "code1 = 7890.00\n",
    "print(f\"{code1:,.2f}\")"
   ]
  },
  {
   "cell_type": "code",
   "execution_count": 98,
   "id": "0dc409c5",
   "metadata": {},
   "outputs": [
    {
     "name": "stdout",
     "output_type": "stream",
     "text": [
      "567.00045\n"
     ]
    }
   ],
   "source": [
    "#output = 567.00045\n",
    "code2 = 567.00045\n",
    "print(f\"{code2:.5f}\")"
   ]
  },
  {
   "cell_type": "code",
   "execution_count": 101,
   "id": "6995bbe1",
   "metadata": {},
   "outputs": [
    {
     "name": "stdout",
     "output_type": "stream",
     "text": [
      "3,450,000\n"
     ]
    }
   ],
   "source": [
    "#Print the following number with commas and no numbers after the decimal: 3450000\n",
    "code3 = 3450000\n",
    "print(f\"{code3:,}\")"
   ]
  },
  {
   "cell_type": "markdown",
   "id": "5675f4cf",
   "metadata": {},
   "source": [
    "#### INPUT FUNCTION \n",
    "\n",
    "The input function directly asks the user (you) for information. \n",
    "\n",
    "    input(tell the user what you want them to do!)\n",
    "    \n",
    "1. Use the input() function to find a users name\n",
    "2. Use the input() function to find a users address\n",
    "3. Use the input() function to find a users phone number\n",
    "4. Use the input() function to find a users age\n",
    "5. Using a formatted string, put all this information together and print a statement using what you learned about the user. "
   ]
  },
  {
   "cell_type": "code",
   "execution_count": 104,
   "id": "9213c2fd",
   "metadata": {},
   "outputs": [
    {
     "name": "stdout",
     "output_type": "stream",
     "text": [
      "What is your name?: Maryna\n",
      "What is your adress?: Bethesda\n",
      "What is your phone number?: 768594\n",
      "How old are you?: 33\n",
      "name: Maryna, adress: Bethesda, phone_number: 768594, age: 33\n"
     ]
    }
   ],
   "source": [
    "## i'll get you started...\n",
    "\n",
    "name = input(\"What is your name?: \")\n",
    "adress = input(\"What is your adress?: \")\n",
    "phone_number = input(\"What is your phone number?: \")\n",
    "age = input(\"How old are you?: \")\n",
    "print (f\"name: {name}, adress: {adress}, phone_number: {phone_number}, age: {age}\")"
   ]
  },
  {
   "cell_type": "markdown",
   "id": "3439a3eb",
   "metadata": {},
   "source": [
    "#### DATA TYPE CONVERSION FUNCTIONS\n",
    "\n",
    "You can convert data to various types using three built-in functions. \n",
    "* the int() function turns a value into an integer\n",
    "* the float() function turns a value into a float\n",
    "* the str() function turns a value into a string\n",
    "\n",
    "Complete the code below to make the necessary changes. "
   ]
  },
  {
   "cell_type": "code",
   "execution_count": 105,
   "id": "ac1ddb88",
   "metadata": {},
   "outputs": [
    {
     "data": {
      "text/plain": [
       "187.0"
      ]
     },
     "execution_count": 105,
     "metadata": {},
     "output_type": "execute_result"
    }
   ],
   "source": [
    "x = \"187\"\n",
    "float(x)\n",
    "### convert x into a float value\n",
    "\n"
   ]
  },
  {
   "cell_type": "code",
   "execution_count": 106,
   "id": "0167e572",
   "metadata": {},
   "outputs": [
    {
     "data": {
      "text/plain": [
       "'123.56'"
      ]
     },
     "execution_count": 106,
     "metadata": {},
     "output_type": "execute_result"
    }
   ],
   "source": [
    "y = 123.56\n",
    "str(y)\n",
    "### convert y into a string value\n",
    "\n"
   ]
  },
  {
   "cell_type": "code",
   "execution_count": 107,
   "id": "1190bded",
   "metadata": {},
   "outputs": [
    {
     "data": {
      "text/plain": [
       "99.0"
      ]
     },
     "execution_count": 107,
     "metadata": {},
     "output_type": "execute_result"
    }
   ],
   "source": [
    "z = 99\n",
    "float(z)\n",
    "### convert z into a float value \n",
    "\n"
   ]
  },
  {
   "cell_type": "markdown",
   "id": "8d175867",
   "metadata": {},
   "source": [
    "# { Module 1 Quiz }"
   ]
  },
  {
   "cell_type": "markdown",
   "id": "87bbeab8",
   "metadata": {},
   "source": [
    "1. Print out your favorite snack and write a comment about what you are doing in the code. \n",
    "2. Print the sum of the following values: 3, 56, 21, 11, 7, 0, 5\n",
    "3. Print the remainder of the values 435 and 6\n",
    "4. Create a variable called 'eye color' and store your eye color to the variable. Print a sentence describing your eye color and using the variable in the sentence. \n",
    "5. Write a code to get two integers from a user. Print out their sum."
   ]
  },
  {
   "cell_type": "code",
   "execution_count": 108,
   "id": "9dda6e42",
   "metadata": {},
   "outputs": [
    {
     "name": "stdout",
     "output_type": "stream",
     "text": [
      "candy\n"
     ]
    }
   ],
   "source": [
    "a = \"candy\"\n",
    "print(a) #print a statement"
   ]
  },
  {
   "cell_type": "code",
   "execution_count": 109,
   "id": "fcc209d6",
   "metadata": {},
   "outputs": [
    {
     "name": "stdout",
     "output_type": "stream",
     "text": [
      "103\n"
     ]
    }
   ],
   "source": [
    "\n",
    "print(3 + 56 + 21 + 11 + 7 + 0 + 5)"
   ]
  },
  {
   "cell_type": "code",
   "execution_count": 115,
   "id": "4474228d",
   "metadata": {},
   "outputs": [
    {
     "name": "stdout",
     "output_type": "stream",
     "text": [
      "72.5\n"
     ]
    }
   ],
   "source": [
    "#Print the remainder of the values 435 and 6\n",
    "print(435 / 6)"
   ]
  },
  {
   "cell_type": "code",
   "execution_count": 112,
   "id": "67d80096",
   "metadata": {},
   "outputs": [
    {
     "name": "stdout",
     "output_type": "stream",
     "text": [
      "My eye color is green.\n"
     ]
    }
   ],
   "source": [
    "#Create a variable called 'eye color' and store your eye color to the variable. Print a sentence describing your eye color and using the variable in the sentence.\n",
    "\n",
    "\n",
    "\n",
    "eye_color = \"green\"\n",
    "print(f\"My eye color is {eye_color}.\")"
   ]
  },
  {
   "cell_type": "code",
   "execution_count": 120,
   "id": "59787d91",
   "metadata": {},
   "outputs": [
    {
     "name": "stdout",
     "output_type": "stream",
     "text": [
      "Enter the first number: 8\n",
      "Enter the second number: 9\n",
      "17\n"
     ]
    }
   ],
   "source": [
    "#Write a code to get two integers from a user. Print out their sum.\n",
    "num1 = int(input(\"Enter the first number: \"))\n",
    "num2 = int(input(\"Enter the second number: \"))\n",
    "a = num1 + num2\n",
    "print(a)"
   ]
  },
  {
   "cell_type": "markdown",
   "id": "c75fba17",
   "metadata": {},
   "source": [
    "## Module 2 Review"
   ]
  },
  {
   "cell_type": "markdown",
   "id": "87b6cfcd",
   "metadata": {},
   "source": [
    "#### IMPORTING LIBRARIES\n",
    "\n",
    "A library is a specific collection of python functions. You can use these functions by first importing the library into your notebook. Once you import your library, you can give it a nickname. The nickname is optional, but it makes it easier to use (or reference) the library throughout your code. \n",
    "\n",
    "    import [ library name ]\n",
    "    \n",
    "Importing a library and assigning a nickname:\n",
    "\n",
    "    import [ library name ] as [ nickname ]\n",
    "    \n",
    "Import the library \"random\" and nickname it \"rd\". "
   ]
  },
  {
   "cell_type": "code",
   "execution_count": 121,
   "id": "3538e862",
   "metadata": {},
   "outputs": [],
   "source": [
    "import random  as rd"
   ]
  },
  {
   "cell_type": "code",
   "execution_count": null,
   "id": "9fcf2d97",
   "metadata": {},
   "outputs": [],
   "source": []
  },
  {
   "cell_type": "markdown",
   "id": "c6ddeed7",
   "metadata": {},
   "source": [
    "#### RANDOM NUMBER GENERATOR\n",
    "\n",
    "The random library contains a function that allows you to generate a random number. This library has two functions that are useful:\n",
    "\n",
    "    .random() : this will generate a random number \n",
    "    .randint() : this will generate a random integer within a specific range\n",
    "    \n",
    "When you want to use the function, you first have to reference the name of your library (or it's nickname) and then attach the function to the end of the library name. For example:\n",
    "\n",
    "    rd.random()\n",
    "    rd.randint() \n",
    "    rd.randint(0, 10) >>> this code will generate a random number between 0 and 10 \n",
    "\n",
    "1. Generate a random number\n",
    "2. Generate a random integer\n",
    "3. Generate a random integer between 1 and 100\n",
    "4. Generate a random integer between -10 and 10"
   ]
  },
  {
   "cell_type": "code",
   "execution_count": 122,
   "id": "e4ae5bb8",
   "metadata": {},
   "outputs": [
    {
     "data": {
      "text/plain": [
       "0.49697828930151244"
      ]
     },
     "execution_count": 122,
     "metadata": {},
     "output_type": "execute_result"
    }
   ],
   "source": [
    "rd.random()"
   ]
  },
  {
   "cell_type": "code",
   "execution_count": 123,
   "id": "e64d59e8",
   "metadata": {},
   "outputs": [
    {
     "ename": "TypeError",
     "evalue": "randint() missing 2 required positional arguments: 'a' and 'b'",
     "output_type": "error",
     "traceback": [
      "\u001b[0;31m---------------------------------------------------------------------------\u001b[0m",
      "\u001b[0;31mTypeError\u001b[0m                                 Traceback (most recent call last)",
      "\u001b[0;32m/var/folders/3v/xfk64x_d67l8ncb6wksvk6gw0000gp/T/ipykernel_68007/1916965426.py\u001b[0m in \u001b[0;36m<module>\u001b[0;34m\u001b[0m\n\u001b[0;32m----> 1\u001b[0;31m \u001b[0mrd\u001b[0m\u001b[0;34m.\u001b[0m\u001b[0mrandint\u001b[0m\u001b[0;34m(\u001b[0m\u001b[0;34m)\u001b[0m\u001b[0;34m\u001b[0m\u001b[0;34m\u001b[0m\u001b[0m\n\u001b[0m",
      "\u001b[0;31mTypeError\u001b[0m: randint() missing 2 required positional arguments: 'a' and 'b'"
     ]
    }
   ],
   "source": [
    "rd.randint() "
   ]
  },
  {
   "cell_type": "code",
   "execution_count": 124,
   "id": "f29464c7",
   "metadata": {},
   "outputs": [
    {
     "data": {
      "text/plain": [
       "32"
      ]
     },
     "execution_count": 124,
     "metadata": {},
     "output_type": "execute_result"
    }
   ],
   "source": [
    "rd.randint(1,100) "
   ]
  },
  {
   "cell_type": "code",
   "execution_count": 125,
   "id": "20a8c4bc",
   "metadata": {},
   "outputs": [
    {
     "data": {
      "text/plain": [
       "2"
      ]
     },
     "execution_count": 125,
     "metadata": {},
     "output_type": "execute_result"
    }
   ],
   "source": [
    "rd.randint(-10,10) "
   ]
  },
  {
   "cell_type": "markdown",
   "id": "5e925c51",
   "metadata": {},
   "source": [
    "#### LEN FUNCTION\n",
    "\n",
    "The len() function returns the length of a given value. This includes the length of a string, the amount of characters is a sentence (which also counts white spaces), the number of items in a list, etc. Complete the code below to determine the length of the following items. Before you run the code, try to guess what the length value is going to be. "
   ]
  },
  {
   "cell_type": "code",
   "execution_count": 126,
   "id": "694d46db",
   "metadata": {},
   "outputs": [
    {
     "data": {
      "text/plain": [
       "5"
      ]
     },
     "execution_count": 126,
     "metadata": {},
     "output_type": "execute_result"
    }
   ],
   "source": [
    "### what is the length of the following string:\n",
    "\n",
    "len(\"Hello\") #5"
   ]
  },
  {
   "cell_type": "code",
   "execution_count": 127,
   "id": "990c5881",
   "metadata": {},
   "outputs": [
    {
     "data": {
      "text/plain": [
       "6"
      ]
     },
     "execution_count": 127,
     "metadata": {},
     "output_type": "execute_result"
    }
   ],
   "source": [
    "### what is the length of the following string:\n",
    "\n",
    "len(\"123ABC\") #6"
   ]
  },
  {
   "cell_type": "code",
   "execution_count": 128,
   "id": "0d2e17d9",
   "metadata": {},
   "outputs": [
    {
     "data": {
      "text/plain": [
       "31"
      ]
     },
     "execution_count": 128,
     "metadata": {},
     "output_type": "execute_result"
    }
   ],
   "source": [
    "### what is the length of the following string:\n",
    "\n",
    "len(\"Hello, how are you doing today?\") "
   ]
  },
  {
   "cell_type": "code",
   "execution_count": 129,
   "id": "ef2c9c60",
   "metadata": {},
   "outputs": [
    {
     "data": {
      "text/plain": [
       "56"
      ]
     },
     "execution_count": 129,
     "metadata": {},
     "output_type": "execute_result"
    }
   ],
   "source": [
    "### what is the length of the following string:\n",
    "\n",
    "len(\"Hello, it's really nice to meet you! I hope you're well!\")"
   ]
  },
  {
   "cell_type": "code",
   "execution_count": 130,
   "id": "e5415e13",
   "metadata": {},
   "outputs": [
    {
     "data": {
      "text/plain": [
       "1"
      ]
     },
     "execution_count": 130,
     "metadata": {},
     "output_type": "execute_result"
    }
   ],
   "source": [
    "### what is the length of the following string:\n",
    "\n",
    "len(\" \")"
   ]
  },
  {
   "cell_type": "markdown",
   "id": "0d32284b",
   "metadata": {},
   "source": [
    "#### STRING METHODS\n",
    "\n",
    "There are several functions that are used specifically with strings. The most important functions to remember are:\n",
    "    \n",
    "<b> Change the Case </b>\n",
    "    \n",
    "    .title() >> change a string to title case\n",
    "    .upper() >> change a string to upper case\n",
    "    .lower() >> change a string to lower case\n",
    "    \n",
    "<b> Remove White Spaces from a String </b>\n",
    "\n",
    "    .strip() >> strip white spaces from both ends of a string\n",
    "    .rstrip() >> remove white spaces from the right-side of a string\n",
    "    .lstrip() >> remove white spaces from the left-side of a string\n",
    "    \n",
    "<b> Replace a value in a String with another value</b>\n",
    "\n",
    "    .replace() >> replace a specific character with another character\n",
    "    .replace([what you want to replace], [what to replace it with])\n",
    "    \n",
    "Complete the code below to practice the above string methods. "
   ]
  },
  {
   "cell_type": "code",
   "execution_count": 134,
   "id": "d1ecde8e",
   "metadata": {},
   "outputs": [
    {
     "data": {
      "text/plain": [
       "'George Washington'"
      ]
     },
     "execution_count": 134,
     "metadata": {},
     "output_type": "execute_result"
    }
   ],
   "source": [
    "name = \"gEOrGe washINGtoN\"\n",
    "\n",
    "name.title()\n",
    "## change the above string to title case"
   ]
  },
  {
   "cell_type": "code",
   "execution_count": 135,
   "id": "a342aa44",
   "metadata": {},
   "outputs": [
    {
     "data": {
      "text/plain": [
       "'hello what are you doing!'"
      ]
     },
     "execution_count": 135,
     "metadata": {},
     "output_type": "execute_result"
    }
   ],
   "source": [
    "yelling = \"HELLO WHAT ARE YOU DOING!\"\n",
    "yelling.lower()\n",
    "## change the above string to lowercase"
   ]
  },
  {
   "cell_type": "code",
   "execution_count": 136,
   "id": "f950dbc2",
   "metadata": {},
   "outputs": [
    {
     "data": {
      "text/plain": [
       "'The Great Gatsby'"
      ]
     },
     "execution_count": 136,
     "metadata": {},
     "output_type": "execute_result"
    }
   ],
   "source": [
    "book = \"the great gatsby\"\n",
    "book.title()\n",
    "## change the above string to title case"
   ]
  },
  {
   "cell_type": "code",
   "execution_count": 137,
   "id": "d94057a7",
   "metadata": {},
   "outputs": [
    {
     "data": {
      "text/plain": [
       "'NEW YORK'"
      ]
     },
     "execution_count": 137,
     "metadata": {},
     "output_type": "execute_result"
    }
   ],
   "source": [
    "city = \"nEW york\"\n",
    "city.upper()\n",
    "## change the above string to uppercase"
   ]
  },
  {
   "cell_type": "code",
   "execution_count": 143,
   "id": "4da01258",
   "metadata": {},
   "outputs": [
    {
     "data": {
      "text/plain": [
       "'Not all those who wander are lost.'"
      ]
     },
     "execution_count": 143,
     "metadata": {},
     "output_type": "execute_result"
    }
   ],
   "source": [
    "quote = \"        Not all those who wander are lost.         \"\n",
    "quote1 = quote.rstrip()\n",
    "quote1.lstrip()\n",
    "## strip the above string of white space on each side "
   ]
  },
  {
   "cell_type": "code",
   "execution_count": 186,
   "id": "9f8e9d33",
   "metadata": {},
   "outputs": [
    {
     "data": {
      "text/plain": [
       "'Not all those who wander are lost.         '"
      ]
     },
     "execution_count": 186,
     "metadata": {},
     "output_type": "execute_result"
    }
   ],
   "source": [
    "quote = \"        Not all those who wander are lost.         \"\n",
    "quote.lstrip()\n",
    "## strip the above string of white spaces on the left side"
   ]
  },
  {
   "cell_type": "code",
   "execution_count": 187,
   "id": "3867989e",
   "metadata": {},
   "outputs": [
    {
     "data": {
      "text/plain": [
       "'        Not all those who wander are lost.'"
      ]
     },
     "execution_count": 187,
     "metadata": {},
     "output_type": "execute_result"
    }
   ],
   "source": [
    "quote = \"        Not all those who wander are lost.         \"\n",
    "quote.rstrip()\n",
    "## strip the above string of white spaces on the right side"
   ]
  },
  {
   "cell_type": "code",
   "execution_count": 192,
   "id": "e983c072",
   "metadata": {},
   "outputs": [
    {
     "data": {
      "text/plain": [
       "'four score and seven years ago...'"
      ]
     },
     "execution_count": 192,
     "metadata": {},
     "output_type": "execute_result"
    }
   ],
   "source": [
    "speech = \"4 score and seven years ago...\"\n",
    "speech.replace(\"4\",\"four\")\n",
    "## in the above string, replace the value of \"4\" with the word \"four\""
   ]
  },
  {
   "cell_type": "code",
   "execution_count": 193,
   "id": "3f2d8aff",
   "metadata": {},
   "outputs": [
    {
     "data": {
      "text/plain": [
       "'Four score and 7 years ago...'"
      ]
     },
     "execution_count": 193,
     "metadata": {},
     "output_type": "execute_result"
    }
   ],
   "source": [
    "speech = \"Four score and seven years ago...\"\n",
    "speech.replace(\"seven\",\"7\")\n",
    "## in the above string, replace the word of \"seven\" with the value \"7\""
   ]
  },
  {
   "cell_type": "code",
   "execution_count": 194,
   "id": "eb0a2616",
   "metadata": {},
   "outputs": [
    {
     "data": {
      "text/plain": [
       "'Four score and seven years ago '"
      ]
     },
     "execution_count": 194,
     "metadata": {},
     "output_type": "execute_result"
    }
   ],
   "source": [
    "speech = \"Four score and seven years ago...\"\n",
    "speech.replace(\"...\",\" \")\n",
    "## in the above string, replace the \"...\" with a single period"
   ]
  },
  {
   "cell_type": "markdown",
   "id": "0f0bcd3a",
   "metadata": {},
   "source": [
    "#### INDEXING A STRING\n",
    "\n",
    "Strings are ordered sequences of characters and each character has a number associated with it. \n",
    "\n",
    "Indexing allows you to access individual characters in a string (or other ordered data types like a list) directly by using a numeric value, that numeric value is associated with a character/position in the string. \n",
    "\n",
    "In python, indexing is zero-based, meaning, the first character in the string has an index of 0, followed by 1, then 2, etc. See below for an example of how index values are associated with a string:\n",
    "\n",
    "    H[0]e[1]l[2]l[3]o[4]![5]\n",
    "    \n",
    "index value of 0 returns the character \"H\"\n",
    "index value of 1 returns the character \"e\"\n",
    "index value of 2 returns the character \"l\"\n",
    "index value of 3 returns the character \"l\"\n",
    "index value of 4 returns the character \"o\"\n",
    "index value of 5 returns the character \"!\"\n",
    "\n",
    "Complete the code below to practice indexing a specific string. "
   ]
  },
  {
   "cell_type": "code",
   "execution_count": 195,
   "id": "c8e51598",
   "metadata": {},
   "outputs": [
    {
     "data": {
      "text/plain": [
       "44"
      ]
     },
     "execution_count": 195,
     "metadata": {},
     "output_type": "execute_result"
    }
   ],
   "source": [
    "## run this cell to define the variable 'words'\n",
    "## determine the length (how many characters) of the passage \n",
    "\n",
    "words = \"To be, or not to be, that is the question...\"\n",
    "\n",
    "len(words)"
   ]
  },
  {
   "cell_type": "code",
   "execution_count": 196,
   "id": "c2c102f4",
   "metadata": {},
   "outputs": [
    {
     "data": {
      "text/plain": [
       "'T'"
      ]
     },
     "execution_count": 196,
     "metadata": {},
     "output_type": "execute_result"
    }
   ],
   "source": [
    "## index the variable 'words'\n",
    "# what character is in position 0?\n",
    "\n",
    "words[0] #T"
   ]
  },
  {
   "cell_type": "code",
   "execution_count": 197,
   "id": "b19dc375",
   "metadata": {},
   "outputs": [
    {
     "data": {
      "text/plain": [
       "'o'"
      ]
     },
     "execution_count": 197,
     "metadata": {},
     "output_type": "execute_result"
    }
   ],
   "source": [
    "## index the variable 'words'\n",
    "# what character is in position 15?\n",
    "words[15]"
   ]
  },
  {
   "cell_type": "code",
   "execution_count": 198,
   "id": "3f34ee5e",
   "metadata": {},
   "outputs": [
    {
     "data": {
      "text/plain": [
       "' '"
      ]
     },
     "execution_count": 198,
     "metadata": {},
     "output_type": "execute_result"
    }
   ],
   "source": [
    "## index the variable 'words'\n",
    "# what character is in position 9?\n",
    "words[9]"
   ]
  },
  {
   "cell_type": "code",
   "execution_count": 199,
   "id": "81c90dbb",
   "metadata": {},
   "outputs": [
    {
     "data": {
      "text/plain": [
       "'o'"
      ]
     },
     "execution_count": 199,
     "metadata": {},
     "output_type": "execute_result"
    }
   ],
   "source": [
    "## index the variable 'words'\n",
    "# what character is in position 39?\n",
    "words[39]"
   ]
  },
  {
   "cell_type": "markdown",
   "id": "aab4ba3d",
   "metadata": {},
   "source": [
    "#### CUSTOMIZED FUNCTIONS \n",
    "\n",
    "Python allows you to create your own unique functions. This gives you a lot of flexibility on the tasks you can automate within your code. You can create a function to do practically anything -- print a single value, add two numbers together, remove white spaces from a string, etc. \n",
    "\n",
    "* A custom function begins with the keyword <b>def</b> and followed by a function name (of your choice). \n",
    "* The function may take argument(s) as input within the opening and closing parentheses, just after the function name and following by a colon. \n",
    "* After defining the function name and argument(s) a block of program statement(s) start on the next line and these statement(s) must be indented. Please note, adding arguments within the parentheses is optional!\n",
    "\n",
    "When you are defining a function, follow these steps:\n",
    "\n",
    "     def function_name(argument1, argument2, ...) :\n",
    "          statement_1\n",
    "          statement_2\n",
    "\n",
    "Complete the code below to define a series of functions. "
   ]
  },
  {
   "cell_type": "code",
   "execution_count": 200,
   "id": "796baaa1",
   "metadata": {},
   "outputs": [
    {
     "name": "stdout",
     "output_type": "stream",
     "text": [
      "10\n"
     ]
    }
   ],
   "source": [
    "# EXAMPLE #\n",
    "## define a function that takes one number and prints the number\n",
    "\n",
    "def print_num(num):\n",
    "    print(num)\n",
    "\n",
    "## call the function\n",
    "## this function takes one argument, so you have to give the function info\n",
    "\n",
    "print_num(10)"
   ]
  },
  {
   "cell_type": "code",
   "execution_count": 201,
   "id": "539cd9e3",
   "metadata": {},
   "outputs": [
    {
     "name": "stdout",
     "output_type": "stream",
     "text": [
      "Enter a number: 6\n",
      "6\n"
     ]
    }
   ],
   "source": [
    "# EXAMPLE #\n",
    "## define a function that generates one number and prints the number\n",
    "\n",
    "def print_num_b():\n",
    "    num = int(input(\"Enter a number: \"))\n",
    "    print(num)\n",
    "\n",
    "## call the function\n",
    "## this function takes no arguments, therefore, we can call the function without giving information first\n",
    "\n",
    "print_num_b()"
   ]
  },
  {
   "cell_type": "code",
   "execution_count": 214,
   "id": "b7303870",
   "metadata": {},
   "outputs": [
    {
     "name": "stdout",
     "output_type": "stream",
     "text": [
      "Enter a number: 4\n",
      "Enter a number: 5\n",
      "9\n"
     ]
    }
   ],
   "source": [
    "## define a function that takes two numbers and adds them together\n",
    "\n",
    "def print_nums(num1, num2):\n",
    "    num1 = int(input(\"Enter a number: \"))\n",
    "    num2 = int(input(\"Enter a number: \"))\n",
    "    print(num1 + num2)\n",
    "print_nums(num1,num2)\n",
    "## call the function below\n",
    "## this function takes two arguments, so you have to give the function info\n",
    "\n"
   ]
  },
  {
   "cell_type": "code",
   "execution_count": 216,
   "id": "9d30be02",
   "metadata": {},
   "outputs": [
    {
     "name": "stdout",
     "output_type": "stream",
     "text": [
      "Enter a number: 5\n",
      "Enter another number: 7\n",
      "12\n"
     ]
    }
   ],
   "source": [
    "## define a function that generates two numbers and adds them together\n",
    "\n",
    "def print_nums_b():\n",
    "    num1 = int(input(\"Enter a number: \"))\n",
    "    num2 = int(input(\"Enter another number: \"))\n",
    "    print(num1 + num2)\n",
    "print_nums_b()\n",
    "## call the function below\n",
    "## this function takes no arguments, therefore, we can call the function without giving information first\n",
    "\n"
   ]
  },
  {
   "cell_type": "code",
   "execution_count": 226,
   "id": "ad99120a",
   "metadata": {},
   "outputs": [
    {
     "name": "stdout",
     "output_type": "stream",
     "text": [
      "HELLO, WORLD!\n"
     ]
    }
   ],
   "source": [
    "## define a function that takes a string and changes the case to uppercase\n",
    "\n",
    "def uppercased(string):\n",
    "    string = \"Hello, world!\"\n",
    "    string = string.upper()\n",
    "    print(string)\n",
    "uppercased(string)   \n",
    "## call the function below\n",
    "## this function takes one argument, so you have to give the function info\n",
    "\n"
   ]
  },
  {
   "cell_type": "code",
   "execution_count": 230,
   "id": "7e297a09",
   "metadata": {},
   "outputs": [
    {
     "name": "stdout",
     "output_type": "stream",
     "text": [
      "Enter the first number: 4\n",
      "Enter the second number: 2\n",
      "8\n"
     ]
    }
   ],
   "source": [
    "## define a function that asks a user for two numbers then multiplies those numbers together\n",
    "\n",
    "def multi(x, y):\n",
    "    x = int(input(\"Enter the first number: \"))\n",
    "    y = int(input(\"Enter the second number: \"))\n",
    "    print(x * y)\n",
    "multi(x, y)   \n",
    "## call the function below\n",
    "## this function takes two arguments, so you have to give the function info\n",
    "\n"
   ]
  },
  {
   "cell_type": "code",
   "execution_count": 231,
   "id": "a1d3e647",
   "metadata": {},
   "outputs": [
    {
     "name": "stdout",
     "output_type": "stream",
     "text": [
      "Enter a number: 3\n",
      "Enter another number: 3\n",
      "9\n"
     ]
    }
   ],
   "source": [
    "## define a function that asks a user for two numbers then multiplies those numbers together\n",
    "\n",
    "def multi_b():\n",
    "    x = int(input(\"Enter a number: \")) \n",
    "    y = int(input(\"Enter another number: \"))\n",
    "    print(x * y)\n",
    "multi_b()\n",
    "## call the function below\n",
    "## this function takes no arguments, therefore, we can call the function without giving information first\n",
    "\n"
   ]
  },
  {
   "cell_type": "markdown",
   "id": "b7f66b5e",
   "metadata": {},
   "source": [
    "# { Module 2 Quiz }\n",
    "\n",
    "1. Convert \"890\" to an integer data type\n",
    "2. Get two numbers from a user. Use these two numbers as the starting and ending number when generating a random integer. Run the code to produce a random integer within this range.\n",
    "3. Remove the whitespaces from the ends of the following string: \"   What is your name   ?\"\n",
    "4. After you remove the whitespaces from the above string, index the string to find the character in position 3.\n",
    "5. Define a function that asks a user for three numbers. Add the first two numbers together. Then, multiply the sum of the first two numbers with the third number. After you define the function, use it!"
   ]
  },
  {
   "cell_type": "code",
   "execution_count": 232,
   "id": "0a78e3fc",
   "metadata": {},
   "outputs": [
    {
     "data": {
      "text/plain": [
       "str"
      ]
     },
     "execution_count": 232,
     "metadata": {},
     "output_type": "execute_result"
    }
   ],
   "source": [
    "#Convert \"890\" to an integer data type\n",
    "x = \"890\"\n",
    "type(x)"
   ]
  },
  {
   "cell_type": "code",
   "execution_count": 234,
   "id": "1a0ac364",
   "metadata": {},
   "outputs": [
    {
     "data": {
      "text/plain": [
       "890"
      ]
     },
     "execution_count": 234,
     "metadata": {},
     "output_type": "execute_result"
    }
   ],
   "source": [
    "int(\"890\")\n"
   ]
  },
  {
   "cell_type": "code",
   "execution_count": 237,
   "id": "07cf74b8",
   "metadata": {},
   "outputs": [
    {
     "name": "stdout",
     "output_type": "stream",
     "text": [
      "Enter a number:2\n",
      "Enter an another number:9\n"
     ]
    },
    {
     "data": {
      "text/plain": [
       "6"
      ]
     },
     "execution_count": 237,
     "metadata": {},
     "output_type": "execute_result"
    }
   ],
   "source": [
    "#Get two numbers from a user. \n",
    "#Use these two numbers as the starting and ending number when generating a random integer.\n",
    "#Run the code to produce a random integer within this range.\n",
    "\n",
    "num1 = int(input(\"Enter a number:\"))\n",
    "num2 = int(input(\"Enter an another number:\"))\n",
    "rd.randint(num1, num2)"
   ]
  },
  {
   "cell_type": "code",
   "execution_count": 240,
   "id": "851f7595",
   "metadata": {},
   "outputs": [
    {
     "data": {
      "text/plain": [
       "'What is your name ?'"
      ]
     },
     "execution_count": 240,
     "metadata": {},
     "output_type": "execute_result"
    }
   ],
   "source": [
    "#Remove the whitespaces from the ends of the following string: \" What is your name ?\"\n",
    "\n",
    "string = \" What is your name ?\"\n",
    "string1 = string.strip()\n",
    "string1.rstrip()"
   ]
  },
  {
   "cell_type": "code",
   "execution_count": 241,
   "id": "32564a56",
   "metadata": {},
   "outputs": [
    {
     "data": {
      "text/plain": [
       "'t'"
      ]
     },
     "execution_count": 241,
     "metadata": {},
     "output_type": "execute_result"
    }
   ],
   "source": [
    "#After you remove the whitespaces from the above string, index the string to find the character in position 3.\n",
    "\n",
    "string1[3]"
   ]
  },
  {
   "cell_type": "code",
   "execution_count": 250,
   "id": "b214d93a",
   "metadata": {},
   "outputs": [
    {
     "name": "stdout",
     "output_type": "stream",
     "text": [
      "Enter num1: 1\n",
      "Enter num2: 2\n",
      "Enter num3: 3\n",
      "9\n"
     ]
    }
   ],
   "source": [
    "#Define a function that asks a user for three numbers. Add the first two numbers together. \n",
    "#Then, multiply the sum of the first two numbers with the third number. \n",
    "#After you define the function, use it!\n",
    "\n",
    "def multiply_the_sum(x, y, z):\n",
    "    num1 = int(input(\"Enter num1: \"))\n",
    "    num2 = int(input(\"Enter num2: \"))\n",
    "    num3 = int(input(\"Enter num3: \"))\n",
    "    print((num1 + num2) * num3)\n",
    "    \n",
    "multiply_the_sum(x, y, z)\n"
   ]
  },
  {
   "cell_type": "code",
   "execution_count": 251,
   "id": "16f3aa33",
   "metadata": {},
   "outputs": [
    {
     "name": "stdout",
     "output_type": "stream",
     "text": [
      "Enter num1: 6\n",
      "Enter num2: 8\n",
      "Enter num3: 2\n",
      "28\n"
     ]
    }
   ],
   "source": [
    "def multiply_the_sum(x, y, z):\n",
    "    num1 = int(input(\"Enter num1: \"))\n",
    "    num2 = int(input(\"Enter num2: \"))\n",
    "    num3 = int(input(\"Enter num3: \"))\n",
    "    print((num1 + num2) * num3)\n",
    "    \n",
    "multiply_the_sum(x, y, z)"
   ]
  },
  {
   "cell_type": "markdown",
   "id": "000f4b45",
   "metadata": {},
   "source": [
    "## Module 3 Review"
   ]
  },
  {
   "cell_type": "markdown",
   "id": "f414038b",
   "metadata": {},
   "source": [
    "#### COMPARISON AND BOOLEAN OPERATORS\n",
    "\n",
    "Comparison operators compare two values to each other and return a result based on that comparison (either true or false). The comparison operators you have available are as follows:\n",
    "\n",
    "    == : equal to\n",
    "    != : not equal to\n",
    "    >  : greater than\n",
    "    <  : less than\n",
    "    >= : greater than or equal to\n",
    "    <= : less than or equal to\n",
    "    \n",
    "For example, x = 10 and y = 14, see below for the following comparison results:\n",
    "\n",
    "       x == y >> FALSE\n",
    "       x != y >> TRUE\n",
    "       x > y >> FALSE\n",
    "       x < y >> TRUE\n",
    "       x >= y >> FALSE\n",
    "       x <= y >> TRUE\n",
    "    \n",
    "1. Create 5 conditions that produce a FALSE result\n",
    "2. Create 5 conditions that produce a TRUE result"
   ]
  },
  {
   "cell_type": "code",
   "execution_count": 254,
   "id": "946b26a8",
   "metadata": {},
   "outputs": [
    {
     "data": {
      "text/plain": [
       "False"
      ]
     },
     "execution_count": 254,
     "metadata": {},
     "output_type": "execute_result"
    }
   ],
   "source": [
    "\n",
    "x = 5\n",
    "y = 2\n",
    "x == y\n"
   ]
  },
  {
   "cell_type": "code",
   "execution_count": 255,
   "id": "5bc579f3",
   "metadata": {},
   "outputs": [
    {
     "data": {
      "text/plain": [
       "False"
      ]
     },
     "execution_count": 255,
     "metadata": {},
     "output_type": "execute_result"
    }
   ],
   "source": [
    "x < y"
   ]
  },
  {
   "cell_type": "code",
   "execution_count": 256,
   "id": "351186bc",
   "metadata": {},
   "outputs": [
    {
     "data": {
      "text/plain": [
       "False"
      ]
     },
     "execution_count": 256,
     "metadata": {},
     "output_type": "execute_result"
    }
   ],
   "source": [
    "x <= y"
   ]
  },
  {
   "cell_type": "code",
   "execution_count": 257,
   "id": "0b57e43f",
   "metadata": {},
   "outputs": [
    {
     "data": {
      "text/plain": [
       "True"
      ]
     },
     "execution_count": 257,
     "metadata": {},
     "output_type": "execute_result"
    }
   ],
   "source": [
    "x!=y"
   ]
  },
  {
   "cell_type": "code",
   "execution_count": 258,
   "id": "e74fb648",
   "metadata": {},
   "outputs": [
    {
     "data": {
      "text/plain": [
       "True"
      ]
     },
     "execution_count": 258,
     "metadata": {},
     "output_type": "execute_result"
    }
   ],
   "source": [
    "x > y"
   ]
  },
  {
   "cell_type": "code",
   "execution_count": 259,
   "id": "fdf1fdee",
   "metadata": {},
   "outputs": [
    {
     "data": {
      "text/plain": [
       "True"
      ]
     },
     "execution_count": 259,
     "metadata": {},
     "output_type": "execute_result"
    }
   ],
   "source": [
    "x>= y"
   ]
  },
  {
   "cell_type": "markdown",
   "id": "66b6fa06",
   "metadata": {},
   "source": [
    "#### CONDITIONAL STATEMENTS\n",
    "\n",
    "Conditional statements check a statement for truth and executes a specific task depending on if the statement is true or false. Conditional statements include:\n",
    "\n",
    "    IF >> if \n",
    "    ELSE >> else\n",
    "    ELIF >> else if "
   ]
  },
  {
   "cell_type": "markdown",
   "id": "e2fd1d7e",
   "metadata": {},
   "source": [
    "#### IF STATEMENTS\n",
    "\n",
    "The IF statement checks a statement for truth, if the statement is true a specific task will be executed\n",
    "\n",
    "1. Run the code in the first example\n",
    "2. Create your own IF statement that prints a number if it is higher than 100\n",
    "3. Create an IF statement that adds 10 to a number if it is higher than 100; print the sum of the two numbers. "
   ]
  },
  {
   "cell_type": "code",
   "execution_count": 260,
   "id": "65265c00",
   "metadata": {},
   "outputs": [
    {
     "name": "stdout",
     "output_type": "stream",
     "text": [
      "You are older than 18.\n"
     ]
    }
   ],
   "source": [
    "## EXAMPLE\n",
    "\n",
    "age = 28\n",
    "\n",
    "if age > 18:\n",
    "    print(\"You are older than 18.\")"
   ]
  },
  {
   "cell_type": "code",
   "execution_count": 261,
   "id": "fe9d34d7",
   "metadata": {},
   "outputs": [
    {
     "name": "stdout",
     "output_type": "stream",
     "text": [
      "The number is higher than 100\n"
     ]
    }
   ],
   "source": [
    "#Create your own IF statement that prints a number if it is higher than 100\n",
    "\n",
    "number = 200\n",
    "\n",
    "if number > 100:\n",
    "    print(\"The number is higher than 100\")"
   ]
  },
  {
   "cell_type": "code",
   "execution_count": 266,
   "id": "70e1a783",
   "metadata": {},
   "outputs": [
    {
     "name": "stdout",
     "output_type": "stream",
     "text": [
      "The sum is 210.\n"
     ]
    }
   ],
   "source": [
    "#Create an IF statement that adds 10 to a number if it is higher than 100; \n",
    "#print the sum of the two numbers.\n",
    "\n",
    "number = 200\n",
    "\n",
    "if number > 100:\n",
    "    number = number + 10 \n",
    "    print(f\"The sum is {number}.\")"
   ]
  },
  {
   "cell_type": "markdown",
   "id": "35172b2f",
   "metadata": {},
   "source": [
    "#### IF/ELSE STATEMENTS\n",
    "\n",
    "The IF/ELSE statements (when used together), checks a statement for truth - if the statement is true, the task underneath the IF statement will execute. If the statement if false, the task underneath the ELSE statement will execute.\n",
    "\n",
    "1. Run the code in the first example\n",
    "2. Create your own IF/ELSE statement that prints a number if it is higher than 100; if it is lower than 100, print \"Low Number\". \n",
    "3. Create an IF/ELSE statement that adds 10 to a number if it is higher than 100; if it isn't higher than 100, add 100 to the number. Print the sum of the two numbers."
   ]
  },
  {
   "cell_type": "code",
   "execution_count": 267,
   "id": "dba5c370",
   "metadata": {},
   "outputs": [
    {
     "name": "stdout",
     "output_type": "stream",
     "text": [
      "You are younger than 18.\n"
     ]
    }
   ],
   "source": [
    "## EXAMPLE\n",
    "\n",
    "age = 8\n",
    "\n",
    "if age > 18:\n",
    "    print(\"You are older than 18.\")\n",
    "else:\n",
    "    print(\"You are younger than 18.\")"
   ]
  },
  {
   "cell_type": "code",
   "execution_count": 270,
   "id": "15ce4d48",
   "metadata": {},
   "outputs": [
    {
     "name": "stdout",
     "output_type": "stream",
     "text": [
      "Low Number.\n"
     ]
    }
   ],
   "source": [
    "#Create your own IF/ELSE statement that prints a number if it is higher than 100; \n",
    "#if it is lower than 100, print \"Low Number\".\n",
    "\n",
    "number = 90\n",
    "\n",
    "if number > 100:\n",
    "    \n",
    "    print(f\"The {number} is.\")\n",
    "else:\n",
    "    print(\"Low Number.\")"
   ]
  },
  {
   "cell_type": "code",
   "execution_count": 278,
   "id": "2c9d3d11",
   "metadata": {},
   "outputs": [
    {
     "name": "stdout",
     "output_type": "stream",
     "text": [
      "Low Number.\n"
     ]
    }
   ],
   "source": [
    "number = 90\n",
    "\n",
    "if number > 100:\n",
    "    \n",
    "    print(f\"The number is {number}.\")\n",
    "if number < 100:\n",
    "    print(\"Low Number.\")"
   ]
  },
  {
   "cell_type": "code",
   "execution_count": null,
   "id": "236f3ddb",
   "metadata": {},
   "outputs": [],
   "source": [
    "#Create an IF/ELSE statement that adds 10 to a number if it is higher than 100; \n",
    "#if it isn't higher than 100, add 100 to the number. \n",
    "#Print the sum of the two numbers."
   ]
  },
  {
   "cell_type": "code",
   "execution_count": 279,
   "id": "acc1a8c4",
   "metadata": {},
   "outputs": [
    {
     "name": "stdout",
     "output_type": "stream",
     "text": [
      " 1020.\n"
     ]
    }
   ],
   "source": [
    "number = 1010\n",
    "\n",
    "if number > 100:\n",
    "    number = number + 10\n",
    "    print(f\" {number}.\")\n",
    "else:\n",
    "    number = number + 100\n",
    "    print(f\"{number}.\")"
   ]
  },
  {
   "cell_type": "markdown",
   "id": "8fda511e",
   "metadata": {},
   "source": [
    "#### ELIF STATEMENTS\n",
    "\n",
    "The ELIF statement is short for \"ELSE IF\" and is a combination of the above statements. ELIF checks another statement for truth (after the initial IF statement) -- if the statement if true, the tasks underneath the ELIF statement will execute. \n",
    "\n",
    "1. Run the code in the first example\n",
    "2. Create your own IF/ELIF/ELSE statement that prints a number if it is higher than 100; if the value is equal to 100 - print \"100\". If both statements are false, print \"less than 100\").\n",
    "3. Create an IF/ELIF/ELSE statement that adds 10 to a number if it is higher than 100; if the number is greater than 50 -- add 20 to the number. If none of the above are true, add 100 to the number. Print the sum of the two numbers. \n"
   ]
  },
  {
   "cell_type": "code",
   "execution_count": 280,
   "id": "274f1c76",
   "metadata": {},
   "outputs": [
    {
     "name": "stdout",
     "output_type": "stream",
     "text": [
      "You ARE currently 18!\n"
     ]
    }
   ],
   "source": [
    "## EXAMPLE\n",
    "\n",
    "age = 18\n",
    "\n",
    "if age > 18:\n",
    "    print(\"You are older than 18.\")\n",
    "elif age == 18:\n",
    "    print(\"You ARE currently 18!\")\n",
    "else:\n",
    "    print(\"You are younger than 18.\")"
   ]
  },
  {
   "cell_type": "code",
   "execution_count": 283,
   "id": "f34a0f17",
   "metadata": {},
   "outputs": [
    {
     "name": "stdout",
     "output_type": "stream",
     "text": [
      " Number 110 is higher than 100.\n"
     ]
    }
   ],
   "source": [
    "#Create your own IF/ELIF/ELSE statement that prints a number if it is higher than 100; \n",
    "#if the value is equal to 100 - print \"100\". \n",
    "#If both statements are false, print \"less than 100\").\n",
    "number = 110\n",
    "\n",
    "if number > 100:\n",
    "    print(f\" Number {number} is higher than 100.\")\n",
    "elif number == 100:\n",
    "    print(\"100\")\n",
    "else:\n",
    "    print(f\" Number {number} is less 100.\")"
   ]
  },
  {
   "cell_type": "code",
   "execution_count": null,
   "id": "5a085b63",
   "metadata": {},
   "outputs": [],
   "source": [
    "#Create an IF/ELIF/ELSE statement that adds 10 to a number if it is higher than 100; \n",
    "#if the number is greater than 50 -- add 20 to the number. \n",
    "#If none of the above are true, add 100 to the number. \n",
    "#Print the sum of the two numbers."
   ]
  },
  {
   "cell_type": "code",
   "execution_count": 285,
   "id": "3c81f37c",
   "metadata": {},
   "outputs": [
    {
     "name": "stdout",
     "output_type": "stream",
     "text": [
      "The sum is 102 \n"
     ]
    }
   ],
   "source": [
    "number = 2\n",
    "\n",
    "if number > 100:\n",
    "    number = number + 10\n",
    "    print(f\"The sum is {number} \")\n",
    "elif number > 50:\n",
    "    number = number + 20\n",
    "    print(f\"The sum is {number} \")\n",
    "else:\n",
    "    number = number + 100\n",
    "    print(f\"The sum is {number} \")"
   ]
  },
  {
   "cell_type": "markdown",
   "id": "672c3909",
   "metadata": {},
   "source": [
    "#### LISTS\n",
    "\n",
    "Lists are a unique data type within Python. Lists are ordered and changeable -- which means you can index a list and you can add/remove values from a list. A list is a collection of values all saved together into a single variable. Lists can contain multiple data types within a single list. All values within a list are separated by a comma. Lists are defined by square brackets. \n",
    "\n",
    "    list_name = [value1, value2, value3...]\n",
    "    \n",
    "Complete the code below to define a series of lists. "
   ]
  },
  {
   "cell_type": "code",
   "execution_count": 289,
   "id": "cb76e8cb",
   "metadata": {},
   "outputs": [
    {
     "name": "stdout",
     "output_type": "stream",
     "text": [
      "['Rose', 'Lily', 'Poppy', 'Alstroemeria', 'Tulip', 'Sunflower']\n"
     ]
    }
   ],
   "source": [
    "## add two values to the following list of flowers\n",
    "# print the list\n",
    "\n",
    "flowers = [\"Rose\", \"Lily\", \"Poppy\", \"Alstroemeria\", \"Tulip\"]\n",
    "flowers.append(\"Sunflower\")\n",
    "print(flowers)"
   ]
  },
  {
   "cell_type": "code",
   "execution_count": 290,
   "id": "75e5258f",
   "metadata": {},
   "outputs": [
    {
     "name": "stdout",
     "output_type": "stream",
     "text": [
      "['Jack', 'Max', 'Leo', 'Harper', 'Sam']\n"
     ]
    }
   ],
   "source": [
    "## fix the code below to define a list of names\n",
    "# print the list\n",
    "\n",
    "names = [\"Jack\", \"Max\", \"Leo\", \"Harper\", \"Sam\"]\n",
    "print(names)"
   ]
  },
  {
   "cell_type": "code",
   "execution_count": 291,
   "id": "4b4faa85",
   "metadata": {},
   "outputs": [
    {
     "name": "stdout",
     "output_type": "stream",
     "text": [
      "[]\n"
     ]
    }
   ],
   "source": [
    "## use the space below to create a blank list\n",
    "# print the list to make sure its blank\n",
    "blank_list = []\n",
    "print(blank_list)\n"
   ]
  },
  {
   "cell_type": "markdown",
   "id": "baa974bd",
   "metadata": {},
   "source": [
    "#### LIST INDEXING AND SLICING\n",
    "\n",
    "Indexing a list works similarly to indexing a list - you are specifically asking to see the value within a specific location. A list index is still zero-based. See below for a list of colors. Next to each color is the index value.\n",
    "\n",
    "    colors = [red-0, yellow-1, blue-2]\n",
    "\n",
    "To index, you will state the name of your list and then within square brackets, specify the location you want to see. \n",
    "\n",
    "    colors[0] >> \"red-0\"\n",
    "    colors[1] >> \"yellow-1\"\n",
    "    colors[2] >> \"blue-2\"\n",
    "    \n",
    "Slicing a list returns a specific segment of the list instead of just returning a specific value in a specific index position. Slicing will return all the values of a list from a starting index location up to (<b>but not including</b>) an ending index location. Slicing uses square brackets and follows the pattern below:\n",
    "\n",
    "    list_name[starting point : ending point]\n",
    "    \n",
    "Slicing will literally give you a slice of the list. See below for an example using the colors list. \n",
    "\n",
    "    colors[0:2] >> red-0, yellow-1\n",
    "    colors[0:3] >> red-0, yellow-1, blue-2\n",
    "    \n",
    "1. Create a list of objects you find around your house. Have at least 6 values in the list. Print the list. \n",
    "2. What value is at position 4 in your list?\n",
    "3. What value is at position 0 in your list?\n",
    "4. Slice your list so you return all values except for the last two."
   ]
  },
  {
   "cell_type": "code",
   "execution_count": 292,
   "id": "f4416196",
   "metadata": {},
   "outputs": [
    {
     "name": "stdout",
     "output_type": "stream",
     "text": [
      "['desk', 'shelf', 'bed', 'mirrow', 'lamp', 'chair']\n"
     ]
    }
   ],
   "source": [
    "#Create a list of objects you find around your house. Have at least 6 values in the list. \n",
    "#Print the list.\n",
    "\n",
    "house = [\"desk\", \"shelf\", \"bed\", \"mirrow\", \"lamp\", \"chair\"]\n",
    "print(house)"
   ]
  },
  {
   "cell_type": "code",
   "execution_count": 293,
   "id": "78068227",
   "metadata": {},
   "outputs": [
    {
     "data": {
      "text/plain": [
       "'lamp'"
      ]
     },
     "execution_count": 293,
     "metadata": {},
     "output_type": "execute_result"
    }
   ],
   "source": [
    "#What value is at position 4 in your list?\n",
    "house[4]"
   ]
  },
  {
   "cell_type": "code",
   "execution_count": 294,
   "id": "7a8f7320",
   "metadata": {},
   "outputs": [
    {
     "data": {
      "text/plain": [
       "'desk'"
      ]
     },
     "execution_count": 294,
     "metadata": {},
     "output_type": "execute_result"
    }
   ],
   "source": [
    "#What value is at position 0 in your list?\n",
    "house[0]"
   ]
  },
  {
   "cell_type": "code",
   "execution_count": 296,
   "id": "1106715c",
   "metadata": {},
   "outputs": [
    {
     "data": {
      "text/plain": [
       "['desk', 'shelf', 'bed', 'mirrow']"
      ]
     },
     "execution_count": 296,
     "metadata": {},
     "output_type": "execute_result"
    }
   ],
   "source": [
    "#Slice your list so you return all values except for the last two.\n",
    "house[0:4]"
   ]
  },
  {
   "cell_type": "markdown",
   "id": "3c69d12a",
   "metadata": {},
   "source": [
    "#### ADDING VALUES TO A LIST\n",
    "\n",
    "Lists are changeable, which means you can add values to a list after you have defined the list initially. \n",
    "\n",
    "The .append() function will add a single value to the end of your list. This function can only add one value at a time, and it will always attach to the end. To use the function, see an example below:\n",
    "\n",
    "    list_name.append( new_item_to_add )\n",
    "    \n",
    "    colors.append(\"green-3\")\n",
    "    \n",
    "The .insert() function will add a single value to a specific index-position within your list. Unlike the append function, this means the item your adding won't automatically be attached to the end. To use the function, see an example below:\n",
    "\n",
    "    list_name.insert( index-position, new_item_to_add )\n",
    "    \n",
    "    colors.insert(0, \"green-3\")\n",
    "\n",
    "The .extend() function allows you to add multiple values to a list at one time. This is the function to use if you don't want to add values one by one. To use the function, you first have to create a separate list of the values you want to add. Then, you will use the .extend() function to add all the values on the list onto the end of the existing list. See below for an example:\n",
    "\n",
    "    new_list = [\"new_value1\", \"new_value2\", \"new_value3\"...]\n",
    "    list_name.extend( new_list )\n",
    "    \n",
    "    \n",
    "    new_colors = [\"green-3\", \"purple-4\"]\n",
    "    colors.extend(new_colors)\n",
    "    \n",
    "1. Create a list of shapes below. This list should have at least 3 values. Print the list. \n",
    "2. Use the append function to add a shape to your list. Print the list.\n",
    "3. Use the insert function to add a shape to your list. This shape should be inserted in index position 2. Print the list.\n",
    "4. Use the extend function to add 3 additional shapes to your list. Print the list. "
   ]
  },
  {
   "cell_type": "code",
   "execution_count": 1,
   "id": "bdba2f86",
   "metadata": {},
   "outputs": [
    {
     "name": "stdout",
     "output_type": "stream",
     "text": [
      "['Circle', 'Triangle', 'Square']\n"
     ]
    }
   ],
   "source": [
    "#Create a list of shapes below. \n",
    "#This list should have at least 3 values. \n",
    "#Print the list.\n",
    "\n",
    "shapes = [\"Circle\", \"Triangle\", \"Square\"]\n",
    "print(shapes)"
   ]
  },
  {
   "cell_type": "code",
   "execution_count": 2,
   "id": "baa7734e",
   "metadata": {},
   "outputs": [
    {
     "name": "stdout",
     "output_type": "stream",
     "text": [
      "['Circle', 'Triangle', 'Square', 'Cube']\n"
     ]
    }
   ],
   "source": [
    "#Use the append function to add a shape to your list. \n",
    "#Print the list.\n",
    "shapes.append(\"Cube\")\n",
    "print(shapes)"
   ]
  },
  {
   "cell_type": "code",
   "execution_count": 3,
   "id": "7c4290e5",
   "metadata": {},
   "outputs": [
    {
     "name": "stdout",
     "output_type": "stream",
     "text": [
      "['Circle', 'Triangle', 'Trapezium', 'Square', 'Cube']\n"
     ]
    }
   ],
   "source": [
    "#Use the insert function to add a shape to your list. \n",
    "#This shape should be inserted in index position 2. \n",
    "#Print the list.\n",
    "shapes.insert(2, \"Trapezium\")\n",
    "print(shapes)"
   ]
  },
  {
   "cell_type": "code",
   "execution_count": 4,
   "id": "35ca5ddf",
   "metadata": {},
   "outputs": [
    {
     "name": "stdout",
     "output_type": "stream",
     "text": [
      "['Circle', 'Triangle', 'Trapezium', 'Square', 'Cube', 'Sphere', 'Cone', 'Cylinder']\n"
     ]
    }
   ],
   "source": [
    "#Use the extend function to add 3 additional shapes to your list. \n",
    "#Print the list.\n",
    "x = [\"Sphere\", \"Cone\",\"Cylinder\"]\n",
    "shapes.extend(x)\n",
    "print(shapes)"
   ]
  },
  {
   "cell_type": "markdown",
   "id": "3a61113f",
   "metadata": {},
   "source": [
    "# { Module 3 Quiz }\n",
    "\n",
    "1. Create 3 conditions that produce a false result. Create 3 conditions that produce a true result.\n",
    "2. Ask the user for a specific color and store the value into a variable. If the color is Blue, print \"Blue is a calming color\". If the color is Red, print \"Red is a fiery color\". Otherwise, print \"All colors are beautiful\".\n",
    "3. Create a list of 5 fictional characters. Print the list. \n",
    "4. Ask the user for a specific number between 1 and 10. If the number is less than 3, print 'low value'. If the number is greater than 7, print 'high number'. Otherwise, print 'thank you'.\n",
    "5. Create a function that determines if a student passed or failed a test. Ask the user for their test score, if the value is below 70, print 'You failed'. If the value is 70 or above, print 'You passed'. If the value is above 100 or below 0, print 'Please enter a valid number'. "
   ]
  },
  {
   "cell_type": "code",
   "execution_count": null,
   "id": "6c34d4fd",
   "metadata": {},
   "outputs": [],
   "source": [
    "#Create 3 conditions that produce a false result. \n",
    "#Create 3 conditions that produce a true result.\n"
   ]
  },
  {
   "cell_type": "code",
   "execution_count": 5,
   "id": "a7f5e0b7",
   "metadata": {},
   "outputs": [
    {
     "data": {
      "text/plain": [
       "False"
      ]
     },
     "execution_count": 5,
     "metadata": {},
     "output_type": "execute_result"
    }
   ],
   "source": [
    "2>3"
   ]
  },
  {
   "cell_type": "code",
   "execution_count": 7,
   "id": "058e91b7",
   "metadata": {},
   "outputs": [
    {
     "data": {
      "text/plain": [
       "False"
      ]
     },
     "execution_count": 7,
     "metadata": {},
     "output_type": "execute_result"
    }
   ],
   "source": [
    "2==3"
   ]
  },
  {
   "cell_type": "code",
   "execution_count": 8,
   "id": "69da4ea4",
   "metadata": {},
   "outputs": [
    {
     "data": {
      "text/plain": [
       "False"
      ]
     },
     "execution_count": 8,
     "metadata": {},
     "output_type": "execute_result"
    }
   ],
   "source": [
    "5<2"
   ]
  },
  {
   "cell_type": "code",
   "execution_count": 10,
   "id": "192c541c",
   "metadata": {},
   "outputs": [
    {
     "data": {
      "text/plain": [
       "True"
      ]
     },
     "execution_count": 10,
     "metadata": {},
     "output_type": "execute_result"
    }
   ],
   "source": [
    "7 == 7"
   ]
  },
  {
   "cell_type": "code",
   "execution_count": 11,
   "id": "b03def96",
   "metadata": {},
   "outputs": [
    {
     "data": {
      "text/plain": [
       "True"
      ]
     },
     "execution_count": 11,
     "metadata": {},
     "output_type": "execute_result"
    }
   ],
   "source": [
    "9>7"
   ]
  },
  {
   "cell_type": "code",
   "execution_count": 12,
   "id": "c9f2860f",
   "metadata": {},
   "outputs": [
    {
     "data": {
      "text/plain": [
       "True"
      ]
     },
     "execution_count": 12,
     "metadata": {},
     "output_type": "execute_result"
    }
   ],
   "source": [
    "7<9"
   ]
  },
  {
   "cell_type": "code",
   "execution_count": 13,
   "id": "492535c7",
   "metadata": {},
   "outputs": [],
   "source": [
    "#Ask the user for a specific color and store the value into a variable. \n",
    "#If the color is Blue, print \"Blue is a calming color\". \n",
    "#If the color is Red, print \"Red is a fiery color\". \n",
    "#Otherwise, print \"All colors are beautiful\"."
   ]
  },
  {
   "cell_type": "code",
   "execution_count": 1,
   "id": "ae7575b4",
   "metadata": {},
   "outputs": [
    {
     "name": "stdout",
     "output_type": "stream",
     "text": [
      "Enter a color: Blue\n",
      "Blue is a calming color\n"
     ]
    }
   ],
   "source": [
    "color = input(\"Enter a color: \")\n",
    "\n",
    "if color == \"Blue\":\n",
    "    print(\"Blue is a calming color\")\n",
    "elif color == \"Red\":\n",
    "    print(\"Red is a fiery color\")\n",
    "else:\n",
    "    print(\"All colors are beautiful\")"
   ]
  },
  {
   "cell_type": "code",
   "execution_count": 2,
   "id": "8d7dda86",
   "metadata": {},
   "outputs": [
    {
     "name": "stdout",
     "output_type": "stream",
     "text": [
      "['Hobbit', 'Witch', 'Pink elephant', 'Werwolf', 'Harry Potter']\n"
     ]
    }
   ],
   "source": [
    "#Create a list of 5 fictional characters. \n",
    "#Print the list.\n",
    "fiction = [\"Hobbit\", \"Witch\", \"Pink elephant\", \"Werwolf\", \"Harry Potter\"]\n",
    "print(fiction)"
   ]
  },
  {
   "cell_type": "code",
   "execution_count": 4,
   "id": "1948949e",
   "metadata": {},
   "outputs": [
    {
     "name": "stdout",
     "output_type": "stream",
     "text": [
      "Give me a number between 1 and 10: 6\n",
      "thank you\n"
     ]
    }
   ],
   "source": [
    "#Ask the user for a specific number between 1 and 10. \n",
    "#If the number is less than 3, print 'low value'. \n",
    "#If the number is greater than 7, print 'high number'. \n",
    "#Otherwise, print 'thank you'.\n",
    "\n",
    "number = int(input(\"Give me a number between 1 and 10: \"))\n",
    "\n",
    "if number < 3:\n",
    "    print(\"low value\")\n",
    "elif number > 7:\n",
    "    print(\"high number\")\n",
    "else:\n",
    "    print(\"thank you\")\n"
   ]
  },
  {
   "cell_type": "code",
   "execution_count": 17,
   "id": "adaf5367",
   "metadata": {},
   "outputs": [
    {
     "name": "stdout",
     "output_type": "stream",
     "text": [
      "Give me your test score:99.3\n",
      "You passed\n"
     ]
    }
   ],
   "source": [
    "#Create a function that determines if a student passed or failed a test. \n",
    "#Ask the user for their test score, if the value is below 70, print 'You failed'. \n",
    "#If the value is 70 or above, print 'You passed'. \n",
    "#If the value is above 100 or below 0, print 'Please enter a valid number'.\n",
    "\n",
    "def passed_or_failed():\n",
    "    score = float(input(\"Give me your test score:\"))\n",
    "\n",
    "    if score < 70:\n",
    "        print('You failed')\n",
    "    elif score >= 70:\n",
    "        print(\"You passed\")\n",
    "    elif score >100 or score < 0:\n",
    "        print(\"Please enter a valid number!\")\n",
    "passed_or_failed() "
   ]
  },
  {
   "cell_type": "markdown",
   "id": "e637bcf4",
   "metadata": {},
   "source": [
    "## Advanced Review\n",
    "\n",
    "Complete the exercises below. These exercises cover topics from all the modules covered in the class thus far, not just the items reviewed in this notebook. Each exercise should be completed in its own cell (or multiple cells). \n",
    "\n",
    "*****************************\n",
    "\n",
    "1.\tCreate a program that asks the user to enter their name and their age. Print out a message addressed to them that tells them the year that they will turn 100 years old.\n",
    "2.\tAsk the user for a number. Depending on whether the number is even or odd, print out an appropriate message to the user.\n",
    "3.\tTake a list and write a program that prints out all the elements of the list that are less than 5. BONUS: Instead of printing the elements one by one, make a new list that has all the elements less than 5 from this list in it and print out this new list.\n",
    "4.\tGenerate a random number between 1 and 9 (including 1 and 9). Ask the user to guess the number, then tell them whether they guessed too low, too high, or exactly right. BONUS: Keep the game going until the user types “exit”\n",
    "5.\tWrite a program that takes a list of numbers (for example, a = [5, 10, 15, 20, 25]) and makes a new list of only the first and last elements of the given list.\n",
    "6.\tWrite a password generator in Python. Be creative with how you generate passwords - strong passwords have a mix of lowercase letters, uppercase letters, numbers, and symbols. The passwords should be random, generating a new password every time the user asks for a new password.\n"
   ]
  },
  {
   "cell_type": "code",
   "execution_count": 4,
   "id": "1a5c1f95",
   "metadata": {},
   "outputs": [
    {
     "name": "stdout",
     "output_type": "stream",
     "text": [
      "What is your name?Maryna\n",
      "How old are you?33\n",
      "Maryna, you will turn 100 years old in 2090\n"
     ]
    }
   ],
   "source": [
    "#Create a program that asks the user to enter their name and their age. \n",
    "#Print out a message addressed to them that tells them the year that they will turn 100 years old.\n",
    "\n",
    "name = input(\"What is your name?\")\n",
    "age = int(input(\"How old are you?\"))\n",
    "year = (2023 - age) + 100\n",
    "print(f\"{name}, you will turn 100 years old in {year}\")"
   ]
  },
  {
   "cell_type": "code",
   "execution_count": 7,
   "id": "71253269",
   "metadata": {},
   "outputs": [
    {
     "name": "stdout",
     "output_type": "stream",
     "text": [
      "Enter a number: 7\n",
      "It's an odd number!\n"
     ]
    }
   ],
   "source": [
    "#Ask the user for a number. \n",
    "#Depending on whether the number is even or odd, print out an appropriate message to the user.\n",
    "\n",
    "num = int(input(\"Enter a number: \"))\n",
    "\n",
    "if num % 2 == 0:\n",
    "    print(\"It's an even number!\")\n",
    "else:\n",
    "    print(\"It's an odd number!\")"
   ]
  },
  {
   "cell_type": "code",
   "execution_count": 10,
   "id": "bedda0d3",
   "metadata": {},
   "outputs": [
    {
     "name": "stdout",
     "output_type": "stream",
     "text": [
      "0\n",
      "1\n",
      "2\n",
      "3\n",
      "4\n"
     ]
    }
   ],
   "source": [
    "#Take a list and write a program that prints out all the elements of the list that are less than 5. \n",
    "#BONUS: Instead of printing the elements one by one, make a new list that has all the elements less than 5 from this list in it and print out this new list.\n",
    "\n",
    "numbers = [0,1,2,3,4,5,6,7,8,9,10]\n",
    "for x in numbers:\n",
    "    if x <5:\n",
    "        print(x)"
   ]
  },
  {
   "cell_type": "code",
   "execution_count": 11,
   "id": "be2fa077",
   "metadata": {},
   "outputs": [
    {
     "name": "stdout",
     "output_type": "stream",
     "text": [
      "[0, 1, 2, 3, 4]\n"
     ]
    }
   ],
   "source": [
    "less_than_5 = []\n",
    "\n",
    "for x in numbers:\n",
    "    if x < 5:\n",
    "        less_than_5.append(x)\n",
    "print(less_than_5)"
   ]
  },
  {
   "cell_type": "code",
   "execution_count": 13,
   "id": "a9bfd4fe",
   "metadata": {},
   "outputs": [
    {
     "name": "stdout",
     "output_type": "stream",
     "text": [
      "Guess a number between 1 and 9 (enter 'exit' to exit): 5\n",
      "Too low!\n",
      "Guess a number between 1 and 9 (enter 'exit' to exit): 4\n",
      "Too low!\n",
      "Guess a number between 1 and 9 (enter 'exit' to exit): 3\n",
      "Too low!\n",
      "Guess a number between 1 and 9 (enter 'exit' to exit): 2\n",
      "Too low!\n",
      "Guess a number between 1 and 9 (enter 'exit' to exit): 1\n",
      "Too low!\n",
      "Guess a number between 1 and 9 (enter 'exit' to exit): 6\n",
      "Correct!\n"
     ]
    }
   ],
   "source": [
    "#Generate a random number between 1 and 9 (including 1 and 9). \n",
    "#Ask the user to guess the number, then tell them whether they guessed too low, too high, or exactly right. \n",
    "#BONUS: Keep the game going until the user types “exit”\n",
    "import random as rd\n",
    "\n",
    "x = rd.randint(1,9)\n",
    "\n",
    "game = True\n",
    "\n",
    "while game:\n",
    "    guess = input(\"Guess a number between 1 and 9 (enter 'exit' to exit): \")\n",
    "    \n",
    "    if guess == 'exit':\n",
    "        break\n",
    "    \n",
    "    elif int(guess) > x:\n",
    "        print(\"Too high!\")\n",
    "        \n",
    "    elif int(guess) < x:\n",
    "        print(\"Too low!\")\n",
    "        \n",
    "    elif int(guess) == x:\n",
    "        print(\"Correct!\")\n",
    "        break"
   ]
  },
  {
   "cell_type": "code",
   "execution_count": 19,
   "id": "18d92689",
   "metadata": {},
   "outputs": [
    {
     "name": "stdout",
     "output_type": "stream",
     "text": [
      "[5, 25]\n"
     ]
    }
   ],
   "source": [
    "#Write a program that takes a list of numbers (for example, a = [5, 10, 15, 20, 25]) \n",
    "#and makes a new list of only the first and last elements of the given list.\n",
    "\n",
    "a = [5, 10, 15, 20, 25]\n",
    "\n",
    "def first_last (a):\n",
    "    new_list = []\n",
    "    first = a[0] \n",
    "    last = a[-1] \n",
    "    new_list.append(first)\n",
    "    new_list.append(last)\n",
    "    print(new_list)\n",
    "    \n",
    "first_last(a)"
   ]
  },
  {
   "cell_type": "code",
   "execution_count": 20,
   "id": "449f7a2d",
   "metadata": {},
   "outputs": [
    {
     "name": "stdout",
     "output_type": "stream",
     "text": [
      "Password:\twF-7&7@g44\n"
     ]
    }
   ],
   "source": [
    "#Write a password generator in Python. \n",
    "#Be creative with how you generate passwords - strong passwords have a mix of \n",
    "#lowercase letters, uppercase letters, numbers, and symbols. \n",
    "#The passwords should be random, generating a new password every time the user asks for a new password.\n",
    "\n",
    "import random as rd\n",
    "\n",
    "### create strings to pull charaters from\n",
    "\n",
    "l_letters = \"abcdefghijklmnopqrstuvwxyz\"\n",
    "u_letters = \"ABCDEFGHIJKLMNOPQRSTUVWXYZ\"\n",
    "numbers = \"1234567890\"\n",
    "symbols = \"~`!@#$%^&*()_-+=|}]{[\\\"';:/?.>,<\"\n",
    "\n",
    "x1 = l_letters[rd.randint(0, 25)]\n",
    "x2 = l_letters[rd.randint(0, 25)]\n",
    "x3 = u_letters[rd.randint(0, 25)]\n",
    "x4 = u_letters[rd.randint(0, 25)]\n",
    "x5 = numbers[rd.randint(0,9)]\n",
    "x6 = numbers[rd.randint(0,9)]\n",
    "x7 = numbers[rd.randint(0,9)]\n",
    "x8 = symbols[rd.randint(0, 30)]\n",
    "x9 = symbols[rd.randint(0, 30)]\n",
    "x10 = symbols[rd.randint(0, 30)]\n",
    "\n",
    "password = [x1, x2, x3, x4,x5,x6, x7,x8, x9,x10]\n",
    "\n",
    "print(f\"Password:\\t{password[rd.randint(0,9)]}{password[rd.randint(0,9)]}{password[rd.randint(0,9)]}{password[rd.randint(0,9)]}{password[rd.randint(0,9)]}{password[rd.randint(0,9)]}{password[rd.randint(0,9)]}{password[rd.randint(0,9)]}{password[rd.randint(0,9)]}{password[rd.randint(0,9)]}\")"
   ]
  },
  {
   "cell_type": "code",
   "execution_count": null,
   "id": "6cbdbcd9",
   "metadata": {},
   "outputs": [],
   "source": []
  }
 ],
 "metadata": {
  "kernelspec": {
   "display_name": "Python 3 (ipykernel)",
   "language": "python",
   "name": "python3"
  },
  "language_info": {
   "codemirror_mode": {
    "name": "ipython",
    "version": 3
   },
   "file_extension": ".py",
   "mimetype": "text/x-python",
   "name": "python",
   "nbconvert_exporter": "python",
   "pygments_lexer": "ipython3",
   "version": "3.9.13"
  }
 },
 "nbformat": 4,
 "nbformat_minor": 5
}
